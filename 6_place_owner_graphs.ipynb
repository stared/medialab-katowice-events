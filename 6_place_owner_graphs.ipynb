{
 "cells": [
  {
   "cell_type": "code",
   "execution_count": 2,
   "metadata": {
    "collapsed": true
   },
   "outputs": [],
   "source": [
    "import pandas as pd\n",
    "import networkx as nx"
   ]
  },
  {
   "cell_type": "code",
   "execution_count": 4,
   "metadata": {},
   "outputs": [],
   "source": [
    "coowners = pd.read_csv(\"data/processed/pair_count_maybe_owner.csv\",\n",
    "                       index_col=[0,1])"
   ]
  },
  {
   "cell_type": "code",
   "execution_count": 16,
   "metadata": {},
   "outputs": [],
   "source": [
    "owner_g = nx.Graph()  \n",
    "\n",
    "for (k1, k2), v in coowners.iterrows():\n",
    "    \n",
    "    owner_g.add_node(k1, count=int(v['count_x']))\n",
    "    weight = max(0., float(v['pmi'] - 2))  # 2 is arbitrary here \n",
    "    if k1 < k2 and weight > 0:\n",
    "        owner_g.add_edge(k1, k2, pmi=float(v['pmi']), weight=weight)"
   ]
  },
  {
   "cell_type": "code",
   "execution_count": 17,
   "metadata": {},
   "outputs": [],
   "source": [
    "nx.write_graphml(owner_g, \"data/processed/pair_count_maybe_owner.graphml\")"
   ]
  },
  {
   "cell_type": "code",
   "execution_count": null,
   "metadata": {
    "collapsed": true
   },
   "outputs": [],
   "source": []
  }
 ],
 "metadata": {
  "kernelspec": {
   "display_name": "Python [conda root]",
   "language": "python",
   "name": "conda-root-py"
  },
  "language_info": {
   "codemirror_mode": {
    "name": "ipython",
    "version": 3
   },
   "file_extension": ".py",
   "mimetype": "text/x-python",
   "name": "python",
   "nbconvert_exporter": "python",
   "pygments_lexer": "ipython3",
   "version": "3.5.3"
  }
 },
 "nbformat": 4,
 "nbformat_minor": 2
}
