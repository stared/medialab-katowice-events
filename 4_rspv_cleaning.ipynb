{
 "cells": [
  {
   "cell_type": "code",
   "execution_count": 1,
   "metadata": {
    "collapsed": true
   },
   "outputs": [],
   "source": [
    "%matplotlib inline\n",
    "import pandas as pd"
   ]
  },
  {
   "cell_type": "code",
   "execution_count": 23,
   "metadata": {
    "collapsed": true
   },
   "outputs": [],
   "source": [
    "rsvps = pd.read_csv(\"data/rsvp.csv\")"
   ]
  },
  {
   "cell_type": "code",
   "execution_count": 24,
   "metadata": {
    "collapsed": false
   },
   "outputs": [
    {
     "data": {
      "text/html": [
       "<div>\n",
       "<table border=\"1\" class=\"dataframe\">\n",
       "  <thead>\n",
       "    <tr style=\"text-align: right;\">\n",
       "      <th></th>\n",
       "      <th>name</th>\n",
       "      <th>id</th>\n",
       "      <th>rsvp_status</th>\n",
       "      <th>event_id</th>\n",
       "    </tr>\n",
       "  </thead>\n",
       "  <tbody>\n",
       "    <tr>\n",
       "      <th>0</th>\n",
       "      <td>Anna Dudzińska</td>\n",
       "      <td>1490062834615246</td>\n",
       "      <td>attending</td>\n",
       "      <td>1003506093022823</td>\n",
       "    </tr>\n",
       "    <tr>\n",
       "      <th>1</th>\n",
       "      <td>Ola Góras</td>\n",
       "      <td>1503509646590911</td>\n",
       "      <td>attending</td>\n",
       "      <td>1003506093022823</td>\n",
       "    </tr>\n",
       "    <tr>\n",
       "      <th>2</th>\n",
       "      <td>Agnieszka Siudak</td>\n",
       "      <td>1522214584713449</td>\n",
       "      <td>attending</td>\n",
       "      <td>1003506093022823</td>\n",
       "    </tr>\n",
       "    <tr>\n",
       "      <th>3</th>\n",
       "      <td>Maciej Skobel</td>\n",
       "      <td>1564556903780155</td>\n",
       "      <td>attending</td>\n",
       "      <td>1003506093022823</td>\n",
       "    </tr>\n",
       "    <tr>\n",
       "      <th>4</th>\n",
       "      <td>Krzysztof Tymczyński</td>\n",
       "      <td>416073011881753</td>\n",
       "      <td>attending</td>\n",
       "      <td>1003506093022823</td>\n",
       "    </tr>\n",
       "  </tbody>\n",
       "</table>\n",
       "</div>"
      ],
      "text/plain": [
       "                   name                id rsvp_status          event_id\n",
       "0        Anna Dudzińska  1490062834615246   attending  1003506093022823\n",
       "1             Ola Góras  1503509646590911   attending  1003506093022823\n",
       "2      Agnieszka Siudak  1522214584713449   attending  1003506093022823\n",
       "3         Maciej Skobel  1564556903780155   attending  1003506093022823\n",
       "4  Krzysztof Tymczyński   416073011881753   attending  1003506093022823"
      ]
     },
     "execution_count": 24,
     "metadata": {},
     "output_type": "execute_result"
    }
   ],
   "source": [
    "rsvps.head()"
   ]
  },
  {
   "cell_type": "code",
   "execution_count": 25,
   "metadata": {
    "collapsed": false
   },
   "outputs": [
    {
     "data": {
      "text/plain": [
       "attending    37454\n",
       "unsure       20018\n",
       "declined      6138\n",
       "Name: rsvp_status, dtype: int64"
      ]
     },
     "execution_count": 25,
     "metadata": {},
     "output_type": "execute_result"
    }
   ],
   "source": [
    "rsvps.rsvp_status.value_counts()"
   ]
  },
  {
   "cell_type": "code",
   "execution_count": 26,
   "metadata": {
    "collapsed": false
   },
   "outputs": [
    {
     "data": {
      "text/plain": [
       "36440"
      ]
     },
     "execution_count": 26,
     "metadata": {},
     "output_type": "execute_result"
    }
   ],
   "source": [
    "len(rsvps.id.unique())"
   ]
  },
  {
   "cell_type": "code",
   "execution_count": 27,
   "metadata": {
    "collapsed": false
   },
   "outputs": [
    {
     "data": {
      "text/plain": [
       "35350"
      ]
     },
     "execution_count": 27,
     "metadata": {},
     "output_type": "execute_result"
    }
   ],
   "source": [
    "len(rsvps.name.unique())"
   ]
  },
  {
   "cell_type": "code",
   "execution_count": 29,
   "metadata": {
    "collapsed": false
   },
   "outputs": [
    {
     "data": {
      "text/plain": [
       "1     27374\n",
       "2      4546\n",
       "3      1666\n",
       "4       896\n",
       "5       502\n",
       "6       334\n",
       "7       227\n",
       "8       173\n",
       "9       137\n",
       "10      104\n",
       "Name: id, dtype: int64"
      ]
     },
     "execution_count": 29,
     "metadata": {},
     "output_type": "execute_result"
    }
   ],
   "source": [
    "rsvps.id.value_counts().value_counts().head(10)"
   ]
  },
  {
   "cell_type": "code",
   "execution_count": 30,
   "metadata": {
    "collapsed": true
   },
   "outputs": [],
   "source": [
    "df_mayattend = rsvps[rsvps.rsvp_status != \"declined\"]"
   ]
  },
  {
   "cell_type": "code",
   "execution_count": 31,
   "metadata": {
    "collapsed": true
   },
   "outputs": [],
   "source": [
    "at_least_twice = df_mayattend.id.value_counts()\n",
    "at_least_twice = at_least_twice[at_least_twice > 1]\n",
    "df_mayattend = df_mayattend[df_mayattend.id.isin(at_least_twice.index)]"
   ]
  },
  {
   "cell_type": "code",
   "execution_count": 32,
   "metadata": {
    "collapsed": false
   },
   "outputs": [
    {
     "data": {
      "text/plain": [
       "8219"
      ]
     },
     "execution_count": 32,
     "metadata": {},
     "output_type": "execute_result"
    }
   ],
   "source": [
    "len(df_mayattend.id.unique())"
   ]
  },
  {
   "cell_type": "code",
   "execution_count": 34,
   "metadata": {
    "collapsed": false
   },
   "outputs": [],
   "source": [
    "df_mayattend[[\"id\", \"event_id\", \"rsvp_status\"]].to_csv(\"data/rsvp2.csv\", index=False)"
   ]
  },
  {
   "cell_type": "code",
   "execution_count": 36,
   "metadata": {
    "collapsed": false
   },
   "outputs": [
    {
     "data": {
      "text/plain": [
       "2568"
      ]
     },
     "execution_count": 36,
     "metadata": {},
     "output_type": "execute_result"
    }
   ],
   "source": [
    "more = df_mayattend.id.value_counts()\n",
    "more = more[at_least_twice > 3]\n",
    "df_mayattend = df_mayattend[df_mayattend.id.isin(more.index)]\n",
    "len(df_mayattend.id.unique())"
   ]
  },
  {
   "cell_type": "code",
   "execution_count": 40,
   "metadata": {
    "collapsed": true
   },
   "outputs": [],
   "source": [
    "df_mayattend[[\"id\", \"event_id\", \"rsvp_status\"]].to_csv(\"data/rsvp4.csv\", index=False)"
   ]
  },
  {
   "cell_type": "code",
   "execution_count": 39,
   "metadata": {
    "collapsed": false
   },
   "outputs": [
    {
     "data": {
      "text/plain": [
       "351"
      ]
     },
     "execution_count": 39,
     "metadata": {},
     "output_type": "execute_result"
    }
   ],
   "source": [
    "len(df_mayattend.event_id.unique())"
   ]
  },
  {
   "cell_type": "code",
   "execution_count": 37,
   "metadata": {
    "collapsed": false
   },
   "outputs": [
    {
     "data": {
      "text/plain": [
       "2      35\n",
       "1      34\n",
       "3      20\n",
       "4      17\n",
       "7      11\n",
       "5      10\n",
       "8       9\n",
       "11      7\n",
       "21      6\n",
       "14      6\n",
       "22      5\n",
       "44      5\n",
       "10      5\n",
       "9       5\n",
       "15      4\n",
       "18      4\n",
       "6       4\n",
       "24      4\n",
       "28      4\n",
       "29      4\n",
       "38      4\n",
       "13      4\n",
       "12      3\n",
       "54      3\n",
       "19      3\n",
       "25      3\n",
       "36      3\n",
       "27      3\n",
       "26      2\n",
       "17      2\n",
       "       ..\n",
       "171     1\n",
       "173     1\n",
       "179     1\n",
       "181     1\n",
       "185     1\n",
       "186     1\n",
       "118     1\n",
       "114     1\n",
       "56      1\n",
       "113     1\n",
       "57      1\n",
       "58      1\n",
       "63      1\n",
       "64      1\n",
       "65      1\n",
       "67      1\n",
       "69      1\n",
       "71      1\n",
       "74      1\n",
       "75      1\n",
       "76      1\n",
       "80      1\n",
       "439     1\n",
       "85      1\n",
       "87      1\n",
       "90      1\n",
       "91      1\n",
       "93      1\n",
       "104     1\n",
       "83      1\n",
       "Name: event_id, dtype: int64"
      ]
     },
     "execution_count": 37,
     "metadata": {},
     "output_type": "execute_result"
    }
   ],
   "source": [
    "df_mayattend.event_id.value_counts().value_counts()"
   ]
  }
 ],
 "metadata": {
  "kernelspec": {
   "display_name": "Python [conda root]",
   "language": "python",
   "name": "conda-root-py"
  },
  "language_info": {
   "codemirror_mode": {
    "name": "ipython",
    "version": 3
   },
   "file_extension": ".py",
   "mimetype": "text/x-python",
   "name": "python",
   "nbconvert_exporter": "python",
   "pygments_lexer": "ipython3",
   "version": "3.5.2"
  }
 },
 "nbformat": 4,
 "nbformat_minor": 1
}
