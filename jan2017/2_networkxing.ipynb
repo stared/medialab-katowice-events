{
 "cells": [
  {
   "cell_type": "code",
   "execution_count": 1,
   "metadata": {
    "collapsed": true
   },
   "outputs": [],
   "source": [
    "import networkx as nx\n",
    "import pandas as pd\n",
    "from glob import glob\n",
    "import re"
   ]
  },
  {
   "cell_type": "code",
   "execution_count": 2,
   "metadata": {
    "collapsed": true
   },
   "outputs": [],
   "source": [
    "filenames  = glob(\"./data/events_rsvp_bez_selekcji/*.csv\")"
   ]
  },
  {
   "cell_type": "code",
   "execution_count": 3,
   "metadata": {
    "collapsed": false
   },
   "outputs": [
    {
     "data": {
      "text/plain": [
       "['./data/events_rsvp_bez_selekcji/1003506093022823_WystawaKrzymskywKATO.csv',\n",
       " './data/events_rsvp_bez_selekcji/1009535365747237_0509PAULINAPRZYBYSZMINIMALKONTENERYKULTURY.csv']"
      ]
     },
     "execution_count": 3,
     "metadata": {},
     "output_type": "execute_result"
    }
   ],
   "source": [
    "filenames[:2]"
   ]
  },
  {
   "cell_type": "code",
   "execution_count": 4,
   "metadata": {
    "collapsed": false
   },
   "outputs": [
    {
     "data": {
      "text/plain": [
       "379"
      ]
     },
     "execution_count": 4,
     "metadata": {},
     "output_type": "execute_result"
    }
   ],
   "source": [
    "len(filenames)"
   ]
  },
  {
   "cell_type": "code",
   "execution_count": 5,
   "metadata": {
    "collapsed": false
   },
   "outputs": [
    {
     "data": {
      "text/html": [
       "<div>\n",
       "<table border=\"1\" class=\"dataframe\">\n",
       "  <thead>\n",
       "    <tr style=\"text-align: right;\">\n",
       "      <th></th>\n",
       "      <th>name</th>\n",
       "      <th>id</th>\n",
       "      <th>rsvp_status</th>\n",
       "    </tr>\n",
       "  </thead>\n",
       "  <tbody>\n",
       "    <tr>\n",
       "      <th>0</th>\n",
       "      <td>Michał Spandel</td>\n",
       "      <td>139423733084723</td>\n",
       "      <td>attending</td>\n",
       "    </tr>\n",
       "    <tr>\n",
       "      <th>1</th>\n",
       "      <td>Konrad Kobylinski</td>\n",
       "      <td>131965087159246</td>\n",
       "      <td>attending</td>\n",
       "    </tr>\n",
       "    <tr>\n",
       "      <th>2</th>\n",
       "      <td>Megii Spr</td>\n",
       "      <td>126812671002976</td>\n",
       "      <td>attending</td>\n",
       "    </tr>\n",
       "    <tr>\n",
       "      <th>3</th>\n",
       "      <td>Paulina Żebrowska</td>\n",
       "      <td>1428057144189383</td>\n",
       "      <td>attending</td>\n",
       "    </tr>\n",
       "    <tr>\n",
       "      <th>4</th>\n",
       "      <td>Sebastian Dziedzic</td>\n",
       "      <td>1496948513953791</td>\n",
       "      <td>attending</td>\n",
       "    </tr>\n",
       "  </tbody>\n",
       "</table>\n",
       "</div>"
      ],
      "text/plain": [
       "                 name                id rsvp_status\n",
       "0      Michał Spandel   139423733084723   attending\n",
       "1   Konrad Kobylinski   131965087159246   attending\n",
       "2           Megii Spr   126812671002976   attending\n",
       "3   Paulina Żebrowska  1428057144189383   attending\n",
       "4  Sebastian Dziedzic  1496948513953791   attending"
      ]
     },
     "execution_count": 5,
     "metadata": {},
     "output_type": "execute_result"
    }
   ],
   "source": [
    "df_test = pd.read_csv(filenames[5])\n",
    "df_test.head()"
   ]
  },
  {
   "cell_type": "code",
   "execution_count": 6,
   "metadata": {
    "collapsed": false
   },
   "outputs": [
    {
     "name": "stdout",
     "output_type": "stream",
     "text": [
      "<class 'pandas.core.frame.DataFrame'>\n",
      "RangeIndex: 330 entries, 0 to 329\n",
      "Data columns (total 3 columns):\n",
      "name           330 non-null object\n",
      "id             330 non-null int64\n",
      "rsvp_status    330 non-null object\n",
      "dtypes: int64(1), object(2)\n",
      "memory usage: 7.8+ KB\n"
     ]
    }
   ],
   "source": [
    "df_test.info()"
   ]
  },
  {
   "cell_type": "code",
   "execution_count": 7,
   "metadata": {
    "collapsed": true
   },
   "outputs": [],
   "source": [
    "pattern = re.compile(r\"/(\\d+)_.+\\.csv\")"
   ]
  },
  {
   "cell_type": "code",
   "execution_count": 8,
   "metadata": {
    "collapsed": false
   },
   "outputs": [
    {
     "data": {
      "text/plain": [
       "['1009535365747237']"
      ]
     },
     "execution_count": 8,
     "metadata": {},
     "output_type": "execute_result"
    }
   ],
   "source": [
    "pattern.findall(filenames[1])"
   ]
  },
  {
   "cell_type": "code",
   "execution_count": 9,
   "metadata": {
    "collapsed": false
   },
   "outputs": [],
   "source": [
    "pattern = re.compile(r\"/(\\d+)_.+\\.csv\")\n",
    "\n",
    "dfs = []\n",
    "for filename in filenames:\n",
    "    df_part = pd.read_csv(filename)\n",
    "    search_result = pattern.findall(filename)\n",
    "    if len(search_result) != 1:\n",
    "        print(filename)\n",
    "        print(search_result)\n",
    "        continue\n",
    "    df_part[\"event_id\"] = pattern.findall(filename)[0]\n",
    "    dfs.append(df_part)\n",
    "\n",
    "df = pd.concat(dfs)"
   ]
  },
  {
   "cell_type": "code",
   "execution_count": 10,
   "metadata": {
    "collapsed": false
   },
   "outputs": [
    {
     "name": "stdout",
     "output_type": "stream",
     "text": [
      "<class 'pandas.core.frame.DataFrame'>\n",
      "Int64Index: 63610 entries, 0 to 0\n",
      "Data columns (total 4 columns):\n",
      "name           63610 non-null object\n",
      "id             63610 non-null int64\n",
      "rsvp_status    63610 non-null object\n",
      "event_id       63610 non-null object\n",
      "dtypes: int64(1), object(3)\n",
      "memory usage: 2.4+ MB\n"
     ]
    }
   ],
   "source": [
    "df.info()"
   ]
  },
  {
   "cell_type": "code",
   "execution_count": 11,
   "metadata": {
    "collapsed": false
   },
   "outputs": [
    {
     "data": {
      "text/plain": [
       "attending    37454\n",
       "unsure       20018\n",
       "declined      6138\n",
       "Name: rsvp_status, dtype: int64"
      ]
     },
     "execution_count": 11,
     "metadata": {},
     "output_type": "execute_result"
    }
   ],
   "source": [
    "df.rsvp_status.value_counts()"
   ]
  },
  {
   "cell_type": "code",
   "execution_count": 14,
   "metadata": {
    "collapsed": true
   },
   "outputs": [],
   "source": [
    "df.to_csv(\"./data/rsvp.csv\", index=False)"
   ]
  },
  {
   "cell_type": "code",
   "execution_count": 32,
   "metadata": {
    "collapsed": true
   },
   "outputs": [],
   "source": [
    "df_mayattend = df[df.rsvp_status != \"declined\"]"
   ]
  },
  {
   "cell_type": "code",
   "execution_count": null,
   "metadata": {
    "collapsed": true
   },
   "outputs": [],
   "source": [
    "len(df_mayattend.id.unique())"
   ]
  },
  {
   "cell_type": "code",
   "execution_count": 34,
   "metadata": {
    "collapsed": false
   },
   "outputs": [
    {
     "data": {
      "text/plain": [
       "8219"
      ]
     },
     "execution_count": 34,
     "metadata": {},
     "output_type": "execute_result"
    }
   ],
   "source": [
    "at_least_twice = df_mayattend.id.value_counts()\n",
    "at_least_twice = at_least_twice[at_least_twice > 1]\n",
    "df_mayattend = df_mayattend[df_mayattend.id.isin(at_least_twice.index)]"
   ]
  },
  {
   "cell_type": "code",
   "execution_count": 53,
   "metadata": {
    "collapsed": false
   },
   "outputs": [
    {
     "data": {
      "text/plain": [
       "8219"
      ]
     },
     "execution_count": 53,
     "metadata": {},
     "output_type": "execute_result"
    }
   ],
   "source": [
    "users_no = len(df_mayattend.id.unique())\n",
    "users_no"
   ]
  },
  {
   "cell_type": "code",
   "execution_count": 57,
   "metadata": {
    "collapsed": false
   },
   "outputs": [],
   "source": [
    "# df_mayattend.event_id.value_counts().value_counts()"
   ]
  },
  {
   "cell_type": "code",
   "execution_count": 35,
   "metadata": {
    "collapsed": false
   },
   "outputs": [],
   "source": [
    "pairs = df_mayattend.merge(df_mayattend, on=\"id\")"
   ]
  },
  {
   "cell_type": "code",
   "execution_count": 36,
   "metadata": {
    "collapsed": false
   },
   "outputs": [
    {
     "data": {
      "text/plain": [
       "(284565, 7)"
      ]
     },
     "execution_count": 36,
     "metadata": {},
     "output_type": "execute_result"
    }
   ],
   "source": [
    "pairs.shape"
   ]
  },
  {
   "cell_type": "code",
   "execution_count": 37,
   "metadata": {
    "collapsed": false
   },
   "outputs": [
    {
     "data": {
      "text/html": [
       "<div>\n",
       "<table border=\"1\" class=\"dataframe\">\n",
       "  <thead>\n",
       "    <tr style=\"text-align: right;\">\n",
       "      <th></th>\n",
       "      <th>name_x</th>\n",
       "      <th>id</th>\n",
       "      <th>rsvp_status_x</th>\n",
       "      <th>event_id_x</th>\n",
       "      <th>name_y</th>\n",
       "      <th>rsvp_status_y</th>\n",
       "      <th>event_id_y</th>\n",
       "    </tr>\n",
       "  </thead>\n",
       "  <tbody>\n",
       "    <tr>\n",
       "      <th>0</th>\n",
       "      <td>Anna Dudzińska</td>\n",
       "      <td>1490062834615246</td>\n",
       "      <td>attending</td>\n",
       "      <td>1003506093022823</td>\n",
       "      <td>Anna Dudzińska</td>\n",
       "      <td>attending</td>\n",
       "      <td>1003506093022823</td>\n",
       "    </tr>\n",
       "    <tr>\n",
       "      <th>1</th>\n",
       "      <td>Anna Dudzińska</td>\n",
       "      <td>1490062834615246</td>\n",
       "      <td>attending</td>\n",
       "      <td>1003506093022823</td>\n",
       "      <td>Anna Dudzińska</td>\n",
       "      <td>unsure</td>\n",
       "      <td>1563282527304477</td>\n",
       "    </tr>\n",
       "    <tr>\n",
       "      <th>2</th>\n",
       "      <td>Anna Dudzińska</td>\n",
       "      <td>1490062834615246</td>\n",
       "      <td>attending</td>\n",
       "      <td>1003506093022823</td>\n",
       "      <td>Anna Dudzińska</td>\n",
       "      <td>unsure</td>\n",
       "      <td>1589039124712548</td>\n",
       "    </tr>\n",
       "    <tr>\n",
       "      <th>3</th>\n",
       "      <td>Anna Dudzińska</td>\n",
       "      <td>1490062834615246</td>\n",
       "      <td>attending</td>\n",
       "      <td>1003506093022823</td>\n",
       "      <td>Anna Dudzińska</td>\n",
       "      <td>attending</td>\n",
       "      <td>1601631150112875</td>\n",
       "    </tr>\n",
       "    <tr>\n",
       "      <th>4</th>\n",
       "      <td>Anna Dudzińska</td>\n",
       "      <td>1490062834615246</td>\n",
       "      <td>attending</td>\n",
       "      <td>1003506093022823</td>\n",
       "      <td>Anna Dudzińska</td>\n",
       "      <td>attending</td>\n",
       "      <td>978102145535062</td>\n",
       "    </tr>\n",
       "  </tbody>\n",
       "</table>\n",
       "</div>"
      ],
      "text/plain": [
       "           name_x                id rsvp_status_x        event_id_x  \\\n",
       "0  Anna Dudzińska  1490062834615246     attending  1003506093022823   \n",
       "1  Anna Dudzińska  1490062834615246     attending  1003506093022823   \n",
       "2  Anna Dudzińska  1490062834615246     attending  1003506093022823   \n",
       "3  Anna Dudzińska  1490062834615246     attending  1003506093022823   \n",
       "4  Anna Dudzińska  1490062834615246     attending  1003506093022823   \n",
       "\n",
       "           name_y rsvp_status_y        event_id_y  \n",
       "0  Anna Dudzińska     attending  1003506093022823  \n",
       "1  Anna Dudzińska        unsure  1563282527304477  \n",
       "2  Anna Dudzińska        unsure  1589039124712548  \n",
       "3  Anna Dudzińska     attending  1601631150112875  \n",
       "4  Anna Dudzińska     attending   978102145535062  "
      ]
     },
     "execution_count": 37,
     "metadata": {},
     "output_type": "execute_result"
    }
   ],
   "source": [
    "pairs.head()"
   ]
  },
  {
   "cell_type": "code",
   "execution_count": 38,
   "metadata": {
    "collapsed": true
   },
   "outputs": [],
   "source": [
    "pair_counts = pairs.query(\"event_id_x < event_id_y\").groupby([\"event_id_x\", \"event_id_y\"]).size()"
   ]
  },
  {
   "cell_type": "code",
   "execution_count": 39,
   "metadata": {
    "collapsed": false
   },
   "outputs": [
    {
     "data": {
      "text/plain": [
       "event_id_x        event_id_y      \n",
       "1003506093022823  1009535365747237     5\n",
       "                  1011421725600905     5\n",
       "                  1020724457947795    13\n",
       "                  1032546810172594     1\n",
       "                  1037899542905963    36\n",
       "dtype: int64"
      ]
     },
     "execution_count": 39,
     "metadata": {},
     "output_type": "execute_result"
    }
   ],
   "source": [
    "pair_counts.head()"
   ]
  },
  {
   "cell_type": "code",
   "execution_count": 40,
   "metadata": {
    "collapsed": false
   },
   "outputs": [
    {
     "data": {
      "text/html": [
       "<div>\n",
       "<table border=\"1\" class=\"dataframe\">\n",
       "  <thead>\n",
       "    <tr style=\"text-align: right;\">\n",
       "      <th></th>\n",
       "      <th>event_id_x</th>\n",
       "      <th>event_id_y</th>\n",
       "      <th>0</th>\n",
       "    </tr>\n",
       "  </thead>\n",
       "  <tbody>\n",
       "    <tr>\n",
       "      <th>0</th>\n",
       "      <td>1003506093022823</td>\n",
       "      <td>1009535365747237</td>\n",
       "      <td>5</td>\n",
       "    </tr>\n",
       "    <tr>\n",
       "      <th>1</th>\n",
       "      <td>1003506093022823</td>\n",
       "      <td>1011421725600905</td>\n",
       "      <td>5</td>\n",
       "    </tr>\n",
       "    <tr>\n",
       "      <th>2</th>\n",
       "      <td>1003506093022823</td>\n",
       "      <td>1020724457947795</td>\n",
       "      <td>13</td>\n",
       "    </tr>\n",
       "    <tr>\n",
       "      <th>3</th>\n",
       "      <td>1003506093022823</td>\n",
       "      <td>1032546810172594</td>\n",
       "      <td>1</td>\n",
       "    </tr>\n",
       "    <tr>\n",
       "      <th>4</th>\n",
       "      <td>1003506093022823</td>\n",
       "      <td>1037899542905963</td>\n",
       "      <td>36</td>\n",
       "    </tr>\n",
       "  </tbody>\n",
       "</table>\n",
       "</div>"
      ],
      "text/plain": [
       "         event_id_x        event_id_y   0\n",
       "0  1003506093022823  1009535365747237   5\n",
       "1  1003506093022823  1011421725600905   5\n",
       "2  1003506093022823  1020724457947795  13\n",
       "3  1003506093022823  1032546810172594   1\n",
       "4  1003506093022823  1037899542905963  36"
      ]
     },
     "execution_count": 40,
     "metadata": {},
     "output_type": "execute_result"
    }
   ],
   "source": [
    "pair_counts.reset_index().head()"
   ]
  },
  {
   "cell_type": "code",
   "execution_count": 41,
   "metadata": {
    "collapsed": true
   },
   "outputs": [],
   "source": [
    "events = pd.read_csv(\"data/events.csv\")"
   ]
  },
  {
   "cell_type": "code",
   "execution_count": 42,
   "metadata": {
    "collapsed": false
   },
   "outputs": [
    {
     "name": "stdout",
     "output_type": "stream",
     "text": [
      "<class 'pandas.core.frame.DataFrame'>\n",
      "RangeIndex: 6300 entries, 0 to 6299\n",
      "Data columns (total 16 columns):\n",
      "id                 6300 non-null int64\n",
      "facebook_id        6300 non-null int64\n",
      "facebook_page      6300 non-null int64\n",
      "picture            6300 non-null object\n",
      "description        6046 non-null object\n",
      "comments           6300 non-null object\n",
      "attending_count    6300 non-null int64\n",
      "end_time           6300 non-null object\n",
      "start_time         6300 non-null object\n",
      "place              6300 non-null object\n",
      "maybe_count        6300 non-null int64\n",
      "noreply_count      6300 non-null int64\n",
      "declined_count     6300 non-null int64\n",
      "name               6300 non-null object\n",
      "feed               6300 non-null object\n",
      "created_at         6300 non-null object\n",
      "dtypes: int64(7), object(9)\n",
      "memory usage: 787.6+ KB\n"
     ]
    }
   ],
   "source": [
    "events.info()"
   ]
  },
  {
   "cell_type": "code",
   "execution_count": 43,
   "metadata": {
    "collapsed": false
   },
   "outputs": [],
   "source": [
    "attended_event_ids = set(df_mayattend.event_id.astype(int).unique())"
   ]
  },
  {
   "cell_type": "code",
   "execution_count": 44,
   "metadata": {
    "collapsed": true
   },
   "outputs": [],
   "source": [
    "all_event_ids = set(events.facebook_id)"
   ]
  },
  {
   "cell_type": "code",
   "execution_count": 45,
   "metadata": {
    "collapsed": false
   },
   "outputs": [
    {
     "data": {
      "text/plain": [
       "362"
      ]
     },
     "execution_count": 45,
     "metadata": {},
     "output_type": "execute_result"
    }
   ],
   "source": [
    "len(attended_event_ids)"
   ]
  },
  {
   "cell_type": "code",
   "execution_count": 46,
   "metadata": {
    "collapsed": false
   },
   "outputs": [
    {
     "data": {
      "text/plain": [
       "6300"
      ]
     },
     "execution_count": 46,
     "metadata": {},
     "output_type": "execute_result"
    }
   ],
   "source": [
    "len(all_event_ids)"
   ]
  },
  {
   "cell_type": "code",
   "execution_count": 47,
   "metadata": {
    "collapsed": false
   },
   "outputs": [
    {
     "data": {
      "text/plain": [
       "362"
      ]
     },
     "execution_count": 47,
     "metadata": {},
     "output_type": "execute_result"
    }
   ],
   "source": [
    "len(attended_event_ids.intersection(all_event_ids))"
   ]
  },
  {
   "cell_type": "code",
   "execution_count": 64,
   "metadata": {
    "collapsed": true
   },
   "outputs": [],
   "source": [
    "counts_we_track = df_mayattend.event_id.astype(int).value_counts()"
   ]
  },
  {
   "cell_type": "code",
   "execution_count": 65,
   "metadata": {
    "collapsed": true
   },
   "outputs": [],
   "source": [
    "attended_event_ids_array = df_mayattend.event_id.astype(int).unique()\n",
    "\n",
    "events_that_matter = events.set_index(\"facebook_id\") \\\n",
    "  .loc[attended_event_ids_array, [\"name\", \"attending_count\", \"maybe_count\", \"start_time\"]]"
   ]
  },
  {
   "cell_type": "code",
   "execution_count": 66,
   "metadata": {
    "collapsed": false
   },
   "outputs": [
    {
     "data": {
      "text/html": [
       "<div>\n",
       "<table border=\"1\" class=\"dataframe\">\n",
       "  <thead>\n",
       "    <tr style=\"text-align: right;\">\n",
       "      <th></th>\n",
       "      <th>name</th>\n",
       "      <th>attending_count</th>\n",
       "      <th>maybe_count</th>\n",
       "      <th>start_time</th>\n",
       "    </tr>\n",
       "    <tr>\n",
       "      <th>facebook_id</th>\n",
       "      <th></th>\n",
       "      <th></th>\n",
       "      <th></th>\n",
       "      <th></th>\n",
       "    </tr>\n",
       "  </thead>\n",
       "  <tbody>\n",
       "    <tr>\n",
       "      <th>1003506093022823</th>\n",
       "      <td>Wystawa- Krzymsky w KATO</td>\n",
       "      <td>78</td>\n",
       "      <td>4</td>\n",
       "      <td>2015-07-28 16:00:00</td>\n",
       "    </tr>\n",
       "    <tr>\n",
       "      <th>1009535365747237</th>\n",
       "      <td>05/09- PAULINA PRZYBYSZ MINIMAL @KONTENERY KUL...</td>\n",
       "      <td>337</td>\n",
       "      <td>44</td>\n",
       "      <td>2015-09-05 18:30:00</td>\n",
       "    </tr>\n",
       "    <tr>\n",
       "      <th>1011421725600905</th>\n",
       "      <td>Natalia Bażowska oprowadza po wystawie „Sztuka...</td>\n",
       "      <td>16</td>\n",
       "      <td>58</td>\n",
       "      <td>2016-06-08 16:00:00</td>\n",
       "    </tr>\n",
       "    <tr>\n",
       "      <th>1015810938479436</th>\n",
       "      <td>Uroczysta premiera \"ŚPIEWAJĄCEGO OBRUSIKA\" z u...</td>\n",
       "      <td>24</td>\n",
       "      <td>42</td>\n",
       "      <td>2016-02-05 19:15:00</td>\n",
       "    </tr>\n",
       "    <tr>\n",
       "      <th>1016481675037256</th>\n",
       "      <td>WOJCIECH KUCHARCZYK / \"DUŻE ZDJĘCIA ŁADNYCH RO...</td>\n",
       "      <td>39</td>\n",
       "      <td>15</td>\n",
       "      <td>2012-05-01 00:00:00</td>\n",
       "    </tr>\n",
       "  </tbody>\n",
       "</table>\n",
       "</div>"
      ],
      "text/plain": [
       "                                                               name  \\\n",
       "facebook_id                                                           \n",
       "1003506093022823                           Wystawa- Krzymsky w KATO   \n",
       "1009535365747237  05/09- PAULINA PRZYBYSZ MINIMAL @KONTENERY KUL...   \n",
       "1011421725600905  Natalia Bażowska oprowadza po wystawie „Sztuka...   \n",
       "1015810938479436  Uroczysta premiera \"ŚPIEWAJĄCEGO OBRUSIKA\" z u...   \n",
       "1016481675037256  WOJCIECH KUCHARCZYK / \"DUŻE ZDJĘCIA ŁADNYCH RO...   \n",
       "\n",
       "                  attending_count  maybe_count           start_time  \n",
       "facebook_id                                                          \n",
       "1003506093022823               78            4  2015-07-28 16:00:00  \n",
       "1009535365747237              337           44  2015-09-05 18:30:00  \n",
       "1011421725600905               16           58  2016-06-08 16:00:00  \n",
       "1015810938479436               24           42  2016-02-05 19:15:00  \n",
       "1016481675037256               39           15  2012-05-01 00:00:00  "
      ]
     },
     "execution_count": 66,
     "metadata": {},
     "output_type": "execute_result"
    }
   ],
   "source": [
    "events_that_matter.head()"
   ]
  },
  {
   "cell_type": "code",
   "execution_count": 67,
   "metadata": {
    "collapsed": true
   },
   "outputs": [],
   "source": [
    "events_that_matter[\"count\"] = events_that_matter[\"attending_count\"] + events_that_matter[\"maybe_count\"]"
   ]
  },
  {
   "cell_type": "code",
   "execution_count": 68,
   "metadata": {
    "collapsed": true
   },
   "outputs": [],
   "source": [
    "import numpy as np"
   ]
  },
  {
   "cell_type": "code",
   "execution_count": 70,
   "metadata": {
    "collapsed": false
   },
   "outputs": [],
   "source": [
    "G = nx.Graph()\n",
    "\n",
    "for eid, row in events_that_matter.iterrows():\n",
    "    G.add_node(int(eid), name=row[\"name\"],\n",
    "                         attending_count_fb=int(row[\"attending_count\"]),\n",
    "                         maybe_count_fb=int(row[\"maybe_count\"]),\n",
    "                         count_fb=int(row[\"count\"]),\n",
    "                         count_we_track = int(counts_we_track.loc[int(eid)]),\n",
    "                         start_time=row[\"start_time\"])\n",
    "\n",
    "for (eid1, eid2), count in pair_counts.iteritems():\n",
    "    # no numpy values for export\n",
    "    # oe = float(count * users_no / (events_that_matter.loc[int(eid1), \"count\"] * events_that_matter.loc[int(eid2), \"count\"]))\n",
    "    oe = float(count * users_no / (counts_we_track[int(eid1)] * counts_we_track[int(eid2)]))\n",
    "    pmi = float(np.log10(oe))\n",
    "    if pmi > 0:\n",
    "        G.add_edge(int(eid1), int(eid2), count=int(count), oe=oe, pmi=pmi, weight=pmi)\n",
    "\n",
    "\n",
    "# nx.write_graphml(G, \"./data/pairs_v1.graphml\")\n",
    "nx.write_graphml(G, \"./data/pairs_v2.graphml\")"
   ]
  },
  {
   "cell_type": "code",
   "execution_count": 80,
   "metadata": {
    "collapsed": false
   },
   "outputs": [
    {
     "name": "stdout",
     "output_type": "stream",
     "text": [
      "1003506093022823\n"
     ]
    }
   ],
   "source": [
    "for eid, row in events_that_matter.iterrows():\n",
    "    print(eid)\n",
    "    break"
   ]
  },
  {
   "cell_type": "code",
   "execution_count": 84,
   "metadata": {
    "collapsed": false
   },
   "outputs": [
    {
     "name": "stdout",
     "output_type": "stream",
     "text": [
      "<class 'pandas.core.frame.DataFrame'>\n",
      "Int64Index: 378 entries, 1003506093022823 to 999062826853462\n",
      "Data columns (total 4 columns):\n",
      "name               378 non-null object\n",
      "attending_count    378 non-null int64\n",
      "maybe_count        378 non-null int64\n",
      "start_time         378 non-null object\n",
      "dtypes: int64(2), object(2)\n",
      "memory usage: 14.8+ KB\n"
     ]
    }
   ],
   "source": [
    "events_that_matter.info()"
   ]
  },
  {
   "cell_type": "code",
   "execution_count": null,
   "metadata": {
    "collapsed": true
   },
   "outputs": [],
   "source": []
  }
 ],
 "metadata": {
  "anaconda-cloud": {},
  "kernelspec": {
   "display_name": "Python [conda root]",
   "language": "python",
   "name": "conda-root-py"
  },
  "language_info": {
   "codemirror_mode": {
    "name": "ipython",
    "version": 3
   },
   "file_extension": ".py",
   "mimetype": "text/x-python",
   "name": "python",
   "nbconvert_exporter": "python",
   "pygments_lexer": "ipython3",
   "version": "3.5.2"
  }
 },
 "nbformat": 4,
 "nbformat_minor": 1
}
