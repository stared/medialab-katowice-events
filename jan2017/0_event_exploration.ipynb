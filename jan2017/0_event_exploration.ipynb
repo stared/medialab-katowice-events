{
 "cells": [
  {
   "cell_type": "code",
   "execution_count": 11,
   "metadata": {
    "collapsed": false
   },
   "outputs": [],
   "source": [
    "%matplotlib inline\n",
    "import pandas as pd\n",
    "import numpy as np\n",
    "import seaborn as sns\n",
    "sns.set_style('whitegrid')"
   ]
  },
  {
   "cell_type": "code",
   "execution_count": 12,
   "metadata": {
    "collapsed": true
   },
   "outputs": [],
   "source": [
    "df = pd.read_csv(\"/Users/pmigdal/Downloads/events.csv\", parse_dates=[7, 8])"
   ]
  },
  {
   "cell_type": "code",
   "execution_count": 13,
   "metadata": {
    "collapsed": false
   },
   "outputs": [
    {
     "data": {
      "text/html": [
       "<div>\n",
       "<table border=\"1\" class=\"dataframe\">\n",
       "  <thead>\n",
       "    <tr style=\"text-align: right;\">\n",
       "      <th></th>\n",
       "      <th>id</th>\n",
       "      <th>facebook_id</th>\n",
       "      <th>facebook_page</th>\n",
       "      <th>picture</th>\n",
       "      <th>description</th>\n",
       "      <th>comments</th>\n",
       "      <th>attending_count</th>\n",
       "      <th>end_time</th>\n",
       "      <th>start_time</th>\n",
       "      <th>place</th>\n",
       "      <th>maybe_count</th>\n",
       "      <th>noreply_count</th>\n",
       "      <th>declined_count</th>\n",
       "      <th>name</th>\n",
       "      <th>feed</th>\n",
       "      <th>created_at</th>\n",
       "    </tr>\n",
       "  </thead>\n",
       "  <tbody>\n",
       "    <tr>\n",
       "      <th>0</th>\n",
       "      <td>6560</td>\n",
       "      <td>1606969096264134</td>\n",
       "      <td>181380568595166</td>\n",
       "      <td>{\"data\":{\"is_silhouette\":false,\"url\":\"https:\\/...</td>\n",
       "      <td>Otwarcie wystawy Barbary Kubskiej – opowieść o...</td>\n",
       "      <td>{\"data\":[{\"from\":{\"name\":\"FUNDACJA KULTURA OBR...</td>\n",
       "      <td>39</td>\n",
       "      <td>2016-09-30 18:00:00</td>\n",
       "      <td>2016-09-30 16:00:00</td>\n",
       "      <td>{\"name\":\"Fundacja Kultura Obrazu, ul. ks. A. K...</td>\n",
       "      <td>49</td>\n",
       "      <td>271</td>\n",
       "      <td>0</td>\n",
       "      <td>Barbara Kubska „Zabijam czas, nim czas zabije ...</td>\n",
       "      <td>{\"data\":[{\"message\":\"Radość! Duma!\",\"updated_t...</td>\n",
       "      <td>2016-11-17 11:43:15</td>\n",
       "    </tr>\n",
       "    <tr>\n",
       "      <th>1</th>\n",
       "      <td>6561</td>\n",
       "      <td>882307485248449</td>\n",
       "      <td>181380568595166</td>\n",
       "      <td>{\"data\":{\"is_silhouette\":false,\"url\":\"https:\\/...</td>\n",
       "      <td>Co wspólnego mają ze sobą fotografia i topogra...</td>\n",
       "      <td>null</td>\n",
       "      <td>18</td>\n",
       "      <td>1970-01-01 00:00:00</td>\n",
       "      <td>2016-08-04 16:00:00</td>\n",
       "      <td>{\"name\":\"Strefa Centralna\",\"location\":{\"city\":...</td>\n",
       "      <td>69</td>\n",
       "      <td>155</td>\n",
       "      <td>0</td>\n",
       "      <td>Mapy i fotografie.</td>\n",
       "      <td>{\"data\":[{\"story\":\"FUNDACJA KULTURA OBRAZU add...</td>\n",
       "      <td>2016-11-17 11:43:15</td>\n",
       "    </tr>\n",
       "  </tbody>\n",
       "</table>\n",
       "</div>"
      ],
      "text/plain": [
       "     id       facebook_id    facebook_page  \\\n",
       "0  6560  1606969096264134  181380568595166   \n",
       "1  6561   882307485248449  181380568595166   \n",
       "\n",
       "                                             picture  \\\n",
       "0  {\"data\":{\"is_silhouette\":false,\"url\":\"https:\\/...   \n",
       "1  {\"data\":{\"is_silhouette\":false,\"url\":\"https:\\/...   \n",
       "\n",
       "                                         description  \\\n",
       "0  Otwarcie wystawy Barbary Kubskiej – opowieść o...   \n",
       "1  Co wspólnego mają ze sobą fotografia i topogra...   \n",
       "\n",
       "                                            comments  attending_count  \\\n",
       "0  {\"data\":[{\"from\":{\"name\":\"FUNDACJA KULTURA OBR...               39   \n",
       "1                                               null               18   \n",
       "\n",
       "             end_time          start_time  \\\n",
       "0 2016-09-30 18:00:00 2016-09-30 16:00:00   \n",
       "1 1970-01-01 00:00:00 2016-08-04 16:00:00   \n",
       "\n",
       "                                               place  maybe_count  \\\n",
       "0  {\"name\":\"Fundacja Kultura Obrazu, ul. ks. A. K...           49   \n",
       "1  {\"name\":\"Strefa Centralna\",\"location\":{\"city\":...           69   \n",
       "\n",
       "   noreply_count  declined_count  \\\n",
       "0            271               0   \n",
       "1            155               0   \n",
       "\n",
       "                                                name  \\\n",
       "0  Barbara Kubska „Zabijam czas, nim czas zabije ...   \n",
       "1                                 Mapy i fotografie.   \n",
       "\n",
       "                                                feed           created_at  \n",
       "0  {\"data\":[{\"message\":\"Radość! Duma!\",\"updated_t...  2016-11-17 11:43:15  \n",
       "1  {\"data\":[{\"story\":\"FUNDACJA KULTURA OBRAZU add...  2016-11-17 11:43:15  "
      ]
     },
     "execution_count": 13,
     "metadata": {},
     "output_type": "execute_result"
    }
   ],
   "source": [
    "df.head(2)"
   ]
  },
  {
   "cell_type": "code",
   "execution_count": 92,
   "metadata": {
    "collapsed": false
   },
   "outputs": [
    {
     "data": {
      "text/plain": [
       "id                 6300\n",
       "facebook_id        6300\n",
       "facebook_page      6300\n",
       "picture            6300\n",
       "description        6046\n",
       "comments           6300\n",
       "attending_count    6300\n",
       "end_time           6300\n",
       "start_time         6300\n",
       "place              6300\n",
       "maybe_count        6300\n",
       "noreply_count      6300\n",
       "declined_count     6300\n",
       "name               6300\n",
       "feed               6300\n",
       "created_at         6300\n",
       "dtype: int64"
      ]
     },
     "execution_count": 92,
     "metadata": {},
     "output_type": "execute_result"
    }
   ],
   "source": [
    "df.count()"
   ]
  },
  {
   "cell_type": "code",
   "execution_count": 85,
   "metadata": {
    "collapsed": false
   },
   "outputs": [],
   "source": [
    "start_times = df[\"start_time\"]"
   ]
  },
  {
   "cell_type": "code",
   "execution_count": 86,
   "metadata": {
    "collapsed": false
   },
   "outputs": [
    {
     "data": {
      "text/plain": [
       "<matplotlib.axes._subplots.AxesSubplot at 0x1246ad550>"
      ]
     },
     "execution_count": 86,
     "metadata": {},
     "output_type": "execute_result"
    },
    {
     "data": {
      "image/png": "[encoded data removed]",
      "text/plain": [
       "<matplotlib.figure.Figure at 0x123e04278>"
      ]
     },
     "metadata": {},
     "output_type": "display_data"
    }
   ],
   "source": [
    "start_times.hist(bins=50)"
   ]
  },
  {
   "cell_type": "code",
   "execution_count": 24,
   "metadata": {
    "collapsed": false
   },
   "outputs": [],
   "source": [
    "z = start_times.iloc[0]"
   ]
  },
  {
   "cell_type": "code",
   "execution_count": 47,
   "metadata": {
    "collapsed": false
   },
   "outputs": [
    {
     "data": {
      "text/plain": [
       "Timestamp('2016-09-30 16:00:00')"
      ]
     },
     "execution_count": 47,
     "metadata": {},
     "output_type": "execute_result"
    }
   ],
   "source": [
    "z"
   ]
  },
  {
   "cell_type": "code",
   "execution_count": 25,
   "metadata": {
    "collapsed": false
   },
   "outputs": [
    {
     "data": {
      "text/plain": [
       "4"
      ]
     },
     "execution_count": 25,
     "metadata": {},
     "output_type": "execute_result"
    }
   ],
   "source": [
    "# piątek - sprawdzenie z kalendarzem\n",
    "z.dayofweek"
   ]
  },
  {
   "cell_type": "code",
   "execution_count": 26,
   "metadata": {
    "collapsed": false
   },
   "outputs": [
    {
     "data": {
      "text/plain": [
       "16"
      ]
     },
     "execution_count": 26,
     "metadata": {},
     "output_type": "execute_result"
    }
   ],
   "source": [
    "z.hour"
   ]
  },
  {
   "cell_type": "code",
   "execution_count": 56,
   "metadata": {
    "collapsed": false
   },
   "outputs": [],
   "source": [
    "start_times_matrix = pd.DataFrame({'hour': start_times.apply(lambda x: x.hour),\n",
    "                                   'dayofweek': start_times.apply(lambda x: x.dayofweek)}) \\\n",
    "                     .pivot_table(None, 'hour', 'dayofweek', len, fill_value=0)\n",
    "start_times_matrix.columns = ['pon', 'wt', 'sr', 'czw', 'pt', 'sob', 'nd']\n",
    "start_times_matrix.index.name = \"godzina rozpoczęcia\""
   ]
  },
  {
   "cell_type": "code",
   "execution_count": 72,
   "metadata": {
    "collapsed": false
   },
   "outputs": [
    {
     "data": {
      "text/plain": [
       "<matplotlib.axes._subplots.AxesSubplot at 0x12449b080>"
      ]
     },
     "execution_count": 72,
     "metadata": {},
     "output_type": "execute_result"
    },
    {
     "data": {
      "image/png": "[encoded data removed]",
      "text/plain": [
       "<matplotlib.figure.Figure at 0x12434a7f0>"
      ]
     },
     "metadata": {},
     "output_type": "display_data"
    }
   ],
   "source": [
    "sns.heatmap(start_times_matrix)  # , annot=True, fmt='d'"
   ]
  },
  {
   "cell_type": "code",
   "execution_count": 87,
   "metadata": {
    "collapsed": false
   },
   "outputs": [
    {
     "data": {
      "text/plain": [
       "<matplotlib.axes._subplots.AxesSubplot at 0x127b6bcf8>"
      ]
     },
     "execution_count": 87,
     "metadata": {},
     "output_type": "execute_result"
    },
    {
     "data": {
      "image/png": "[encoded data removed]",
      "text/plain": [
       "<matplotlib.figure.Figure at 0x1258bd6d8>"
      ]
     },
     "metadata": {},
     "output_type": "display_data"
    }
   ],
   "source": [
    "liczby_uczesnitkow = df[\"attending_count\"]\n",
    "liczby_uczesnitkow[liczby_uczesnitkow > 0] \\\n",
    "  .apply(np.log10) \\\n",
    "  .hist(bins=8, range=(0, 4))"
   ]
  },
  {
   "cell_type": "code",
   "execution_count": 68,
   "metadata": {
    "collapsed": false
   },
   "outputs": [
    {
     "data": {
      "text/plain": [
       "3.1622776601683795"
      ]
     },
     "execution_count": 68,
     "metadata": {},
     "output_type": "execute_result"
    }
   ],
   "source": [
    "10**0.5"
   ]
  },
  {
   "cell_type": "code",
   "execution_count": 88,
   "metadata": {
    "collapsed": false
   },
   "outputs": [],
   "source": [
    "opisy = df[\"description\"]"
   ]
  },
  {
   "cell_type": "code",
   "execution_count": 89,
   "metadata": {
    "collapsed": false
   },
   "outputs": [
    {
     "data": {
      "text/plain": [
       "'SZTUKA W NASZYM WIEKU — Rafał Dominik i Szymon Żydek oraz kolekcje Fundacji Sztuki Polskiej ING i Zachęty – Narodowej Galerii Sztuki\\n\\n„Sztuka w naszym wieku” to wystawa dla wszystkich, którzy właśnie rozpoczęli lub chcą rozpocząć przygodę ze sztuką współczesną. Jej autorzy – Rafał Dominik oraz Szymon Żydek – swoją opowieść zilustrowali wyborem prac pochodzących z kolekcji  Fundacji Sztuki Polskiej ING oraz Zachęty – Narodowej Galerii Sztuki. Wystawa przybrała formę instalacji – przestrzeni do testowania różnych sposobów mówienia i prezentowania dzieł sztuki. Podzielona została na cztery etapy – każdy z nich stanowi osobny rozdział opowieści.\\n\\nWystawa przygotowana została z okazji jubileuszu 15-lecia Fundacji Sztuki Polskiej ING, jako efekt współpracy z zespołem Zachęty – Narodowej Galerii Sztuki. Na przełomie grudnia i stycznia 2016 roku prezentowana była w salach Zachęty.\\n\\nartyści: Magdalena Abakanowicz, Azorro, Basia Bańda, Agata Bogacka, Tymek Borowski, Olaf Brzeski, Dorota Buczkowska, Kuba Dąbrowski, Jan Dobkowski, Tadeusz Dominik, Edward Dwurnik, Wojciech Gilewicz, Rafał Jakubowicz, Piotr Janas, Adam Jastrzębski, Jerzy Kałucki, Róża Litwa, Krzysztof M. Bednarski, Marcin Maciejowski, Robert Maciejuk, Przemysław Matecki, Artur Nacht Samborski, Lech Okołów, Włodzimierz Pawlak, Sławomir Pawszak, Józef Petruk, Katarzyna Przezwańska, Janek Simon, Henryk Stażewski, Paweł Susid, Jerzy Tchórzewski, Karol Wierusz Kowalski, Ryszard Winiarski, Jakub Woynarowski\\nkuratorzy: Rafał Dominik i Szymon Żydek\\n\\nwspółpraca ze strony Fundacji: Kamila Bondar\\nwspółpraca ze strony Zachęty: Maria Świerżewska-Franczak'"
      ]
     },
     "execution_count": 89,
     "metadata": {},
     "output_type": "execute_result"
    }
   ],
   "source": [
    "opisy.iloc[133]"
   ]
  },
  {
   "cell_type": "code",
   "execution_count": 90,
   "metadata": {
    "collapsed": false
   },
   "outputs": [
    {
     "data": {
      "text/plain": [
       "(6300,)"
      ]
     },
     "execution_count": 90,
     "metadata": {},
     "output_type": "execute_result"
    }
   ],
   "source": [
    "opisy.shape"
   ]
  },
  {
   "cell_type": "code",
   "execution_count": 91,
   "metadata": {
    "collapsed": false
   },
   "outputs": [
    {
     "data": {
      "text/plain": [
       "6046"
      ]
     },
     "execution_count": 91,
     "metadata": {},
     "output_type": "execute_result"
    }
   ],
   "source": [
    "opisy.count()"
   ]
  },
  {
   "cell_type": "code",
   "execution_count": 81,
   "metadata": {
    "collapsed": false
   },
   "outputs": [
    {
     "data": {
      "text/plain": [
       "<matplotlib.axes._subplots.AxesSubplot at 0x1246d6ba8>"
      ]
     },
     "execution_count": 81,
     "metadata": {},
     "output_type": "execute_result"
    },
    {
     "data": {
      "image/png": "[encoded data removed]",
      "text/plain": [
       "<matplotlib.figure.Figure at 0x1248d5a90>"
      ]
     },
     "metadata": {},
     "output_type": "display_data"
    }
   ],
   "source": [
    "opisy.dropna().apply(len).apply(np.log10).hist()"
   ]
  },
  {
   "cell_type": "code",
   "execution_count": 95,
   "metadata": {
    "collapsed": false
   },
   "outputs": [
    {
     "data": {
      "text/plain": [
       "<matplotlib.axes._subplots.AxesSubplot at 0x124a44f60>"
      ]
     },
     "execution_count": 95,
     "metadata": {},
     "output_type": "execute_result"
    },
    {
     "data": {
      "image/png": "[encoded data removed]",
      "text/plain": [
       "<matplotlib.figure.Figure at 0x125df5da0>"
      ]
     },
     "metadata": {},
     "output_type": "display_data"
    }
   ],
   "source": [
    "# wydarzenia per strona\n",
    "df[\"facebook_page\"].value_counts().apply(np.log10).hist()"
   ]
  },
  {
   "cell_type": "code",
   "execution_count": 96,
   "metadata": {
    "collapsed": false
   },
   "outputs": [
    {
     "data": {
      "text/plain": [
       "count     98.000000\n",
       "mean      64.285714\n",
       "std      114.995921\n",
       "min        1.000000\n",
       "25%        6.000000\n",
       "50%       18.000000\n",
       "75%       72.750000\n",
       "max      618.000000\n",
       "Name: facebook_page, dtype: float64"
      ]
     },
     "execution_count": 96,
     "metadata": {},
     "output_type": "execute_result"
    }
   ],
   "source": [
    "df[\"facebook_page\"].value_counts().describe()"
   ]
  },
  {
   "cell_type": "code",
   "execution_count": 6,
   "metadata": {
    "collapsed": false
   },
   "outputs": [
    {
     "data": {
      "text/plain": [
       "'{\"name\":\"Strefa Centralna\",\"location\":{\"city\":\"Katowice\",\"country\":\"Poland\",\"latitude\":50.25358,\"longitude\":19.02335,\"street\":\"Plac Sejmu Sląskiego 2\",\"zip\":\"40-032\"},\"id\":\"1376006482624106\"}'"
      ]
     },
     "execution_count": 6,
     "metadata": {},
     "output_type": "execute_result"
    }
   ],
   "source": [
    "df[\"place\"][1]"
   ]
  },
  {
   "cell_type": "code",
   "execution_count": 10,
   "metadata": {
    "collapsed": false
   },
   "outputs": [
    {
     "data": {
      "text/plain": [
       "'{\"name\":\"Galeria Miasta Ogrodów\",\"location\":{\"city\":\"Katowice\",\"country\":\"Poland\",\"latitude\":50.25358,\"longitude\":19.02335,\"street\":\"plac Sejmu Śląskiego 2\",\"zip\":\"40-032\"},\"id\":\"1425397794348232\"}'"
      ]
     },
     "execution_count": 10,
     "metadata": {},
     "output_type": "execute_result"
    }
   ],
   "source": [
    "df[\"place\"][5]"
   ]
  },
  {
   "cell_type": "code",
   "execution_count": null,
   "metadata": {
    "collapsed": true
   },
   "outputs": [],
   "source": []
  }
 ],
 "metadata": {
  "anaconda-cloud": {},
  "kernelspec": {
   "display_name": "Python [default]",
   "language": "python",
   "name": "python3"
  },
  "language_info": {
   "codemirror_mode": {
    "name": "ipython",
    "version": 3
   },
   "file_extension": ".py",
   "mimetype": "text/x-python",
   "name": "python",
   "nbconvert_exporter": "python",
   "pygments_lexer": "ipython3",
   "version": "3.5.2"
  }
 },
 "nbformat": 4,
 "nbformat_minor": 1
}
