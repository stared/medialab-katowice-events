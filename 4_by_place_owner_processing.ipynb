{
 "cells": [
  {
   "cell_type": "code",
   "execution_count": 1,
   "metadata": {
    "collapsed": true
   },
   "outputs": [],
   "source": [
    "%matplotlib inline\n",
    "import pandas as pd\n",
    "import numpy as np"
   ]
  },
  {
   "cell_type": "code",
   "execution_count": 2,
   "metadata": {
    "collapsed": true
   },
   "outputs": [],
   "source": [
    "participation = pd.read_csv(\"data/users_participating_events.csv\")"
   ]
  },
  {
   "cell_type": "code",
   "execution_count": 3,
   "metadata": {},
   "outputs": [
    {
     "data": {
      "text/html": [
       "<div>\n",
       "<style>\n",
       "    .dataframe thead tr:only-child th {\n",
       "        text-align: right;\n",
       "    }\n",
       "\n",
       "    .dataframe thead th {\n",
       "        text-align: left;\n",
       "    }\n",
       "\n",
       "    .dataframe tbody tr th {\n",
       "        vertical-align: top;\n",
       "    }\n",
       "</style>\n",
       "<table border=\"1\" class=\"dataframe\">\n",
       "  <thead>\n",
       "    <tr style=\"text-align: right;\">\n",
       "      <th></th>\n",
       "      <th>user_facebook_id</th>\n",
       "      <th>rsvp_status</th>\n",
       "      <th>event_facebook_id</th>\n",
       "    </tr>\n",
       "  </thead>\n",
       "  <tbody>\n",
       "    <tr>\n",
       "      <th>0</th>\n",
       "      <td>201098027006232</td>\n",
       "      <td>attending</td>\n",
       "      <td>1606969096264134</td>\n",
       "    </tr>\n",
       "    <tr>\n",
       "      <th>1</th>\n",
       "      <td>334566996897353</td>\n",
       "      <td>attending</td>\n",
       "      <td>1606969096264134</td>\n",
       "    </tr>\n",
       "    <tr>\n",
       "      <th>2</th>\n",
       "      <td>354393944896674</td>\n",
       "      <td>attending</td>\n",
       "      <td>1606969096264134</td>\n",
       "    </tr>\n",
       "    <tr>\n",
       "      <th>3</th>\n",
       "      <td>1698350500494930</td>\n",
       "      <td>attending</td>\n",
       "      <td>1606969096264134</td>\n",
       "    </tr>\n",
       "    <tr>\n",
       "      <th>4</th>\n",
       "      <td>1775177359410467</td>\n",
       "      <td>attending</td>\n",
       "      <td>1606969096264134</td>\n",
       "    </tr>\n",
       "  </tbody>\n",
       "</table>\n",
       "</div>"
      ],
      "text/plain": [
       "   user_facebook_id rsvp_status  event_facebook_id\n",
       "0   201098027006232   attending   1606969096264134\n",
       "1   334566996897353   attending   1606969096264134\n",
       "2   354393944896674   attending   1606969096264134\n",
       "3  1698350500494930   attending   1606969096264134\n",
       "4  1775177359410467   attending   1606969096264134"
      ]
     },
     "execution_count": 3,
     "metadata": {},
     "output_type": "execute_result"
    }
   ],
   "source": [
    "participation.head()"
   ]
  },
  {
   "cell_type": "code",
   "execution_count": 4,
   "metadata": {
    "collapsed": true
   },
   "outputs": [],
   "source": [
    "events = pd.read_csv(\"data/events.csv\", index_col='facebook_id')\n",
    "events = events.loc[:, ['attending_count', 'facebook_page', 'name', 'place_name', 'owner_id', 'owner_name']]"
   ]
  },
  {
   "cell_type": "code",
   "execution_count": 5,
   "metadata": {},
   "outputs": [
    {
     "data": {
      "text/html": [
       "<div>\n",
       "<style>\n",
       "    .dataframe thead tr:only-child th {\n",
       "        text-align: right;\n",
       "    }\n",
       "\n",
       "    .dataframe thead th {\n",
       "        text-align: left;\n",
       "    }\n",
       "\n",
       "    .dataframe tbody tr th {\n",
       "        vertical-align: top;\n",
       "    }\n",
       "</style>\n",
       "<table border=\"1\" class=\"dataframe\">\n",
       "  <thead>\n",
       "    <tr style=\"text-align: right;\">\n",
       "      <th></th>\n",
       "      <th>user_facebook_id</th>\n",
       "      <th>rsvp_status</th>\n",
       "      <th>event_facebook_id</th>\n",
       "    </tr>\n",
       "  </thead>\n",
       "  <tbody>\n",
       "    <tr>\n",
       "      <th>0</th>\n",
       "      <td>201098027006232</td>\n",
       "      <td>attending</td>\n",
       "      <td>1606969096264134</td>\n",
       "    </tr>\n",
       "    <tr>\n",
       "      <th>1</th>\n",
       "      <td>334566996897353</td>\n",
       "      <td>attending</td>\n",
       "      <td>1606969096264134</td>\n",
       "    </tr>\n",
       "    <tr>\n",
       "      <th>2</th>\n",
       "      <td>354393944896674</td>\n",
       "      <td>attending</td>\n",
       "      <td>1606969096264134</td>\n",
       "    </tr>\n",
       "    <tr>\n",
       "      <th>3</th>\n",
       "      <td>1698350500494930</td>\n",
       "      <td>attending</td>\n",
       "      <td>1606969096264134</td>\n",
       "    </tr>\n",
       "    <tr>\n",
       "      <th>4</th>\n",
       "      <td>1775177359410467</td>\n",
       "      <td>attending</td>\n",
       "      <td>1606969096264134</td>\n",
       "    </tr>\n",
       "  </tbody>\n",
       "</table>\n",
       "</div>"
      ],
      "text/plain": [
       "   user_facebook_id rsvp_status  event_facebook_id\n",
       "0   201098027006232   attending   1606969096264134\n",
       "1   334566996897353   attending   1606969096264134\n",
       "2   354393944896674   attending   1606969096264134\n",
       "3  1698350500494930   attending   1606969096264134\n",
       "4  1775177359410467   attending   1606969096264134"
      ]
     },
     "execution_count": 5,
     "metadata": {},
     "output_type": "execute_result"
    }
   ],
   "source": [
    "participation.head()"
   ]
  },
  {
   "cell_type": "code",
   "execution_count": 6,
   "metadata": {},
   "outputs": [
    {
     "name": "stdout",
     "output_type": "stream",
     "text": [
      "<class 'pandas.core.frame.DataFrame'>\n",
      "RangeIndex: 3667328 entries, 0 to 3667327\n",
      "Data columns (total 3 columns):\n",
      "user_facebook_id     int64\n",
      "rsvp_status          object\n",
      "event_facebook_id    int64\n",
      "dtypes: int64(2), object(1)\n",
      "memory usage: 83.9+ MB\n"
     ]
    }
   ],
   "source": [
    "participation.info()"
   ]
  },
  {
   "cell_type": "code",
   "execution_count": 10,
   "metadata": {
    "collapsed": true
   },
   "outputs": [],
   "source": [
    "# attending and maybe\n",
    "attending = participation.loc[lambda df: df.rsvp_status.isin(['attending', 'maybe']),\n",
    "                              ['user_facebook_id', 'event_facebook_id']]"
   ]
  },
  {
   "cell_type": "code",
   "execution_count": 11,
   "metadata": {
    "collapsed": true
   },
   "outputs": [],
   "source": [
    "# data cleaning stuff, as some are only in one (consult `1_coinccidenses_exploration`)\n",
    "common_indices = set(events.index).intersection(set(attending['event_facebook_id']))\n",
    "attending = attending.loc[lambda df: df['event_facebook_id'].isin(common_indices)]"
   ]
  },
  {
   "cell_type": "code",
   "execution_count": 12,
   "metadata": {},
   "outputs": [
    {
     "data": {
      "text/html": [
       "<div>\n",
       "<style>\n",
       "    .dataframe thead tr:only-child th {\n",
       "        text-align: right;\n",
       "    }\n",
       "\n",
       "    .dataframe thead th {\n",
       "        text-align: left;\n",
       "    }\n",
       "\n",
       "    .dataframe tbody tr th {\n",
       "        vertical-align: top;\n",
       "    }\n",
       "</style>\n",
       "<table border=\"1\" class=\"dataframe\">\n",
       "  <thead>\n",
       "    <tr style=\"text-align: right;\">\n",
       "      <th></th>\n",
       "      <th>user_facebook_id</th>\n",
       "      <th>event_facebook_id</th>\n",
       "    </tr>\n",
       "  </thead>\n",
       "  <tbody>\n",
       "    <tr>\n",
       "      <th>0</th>\n",
       "      <td>201098027006232</td>\n",
       "      <td>1606969096264134</td>\n",
       "    </tr>\n",
       "    <tr>\n",
       "      <th>1</th>\n",
       "      <td>334566996897353</td>\n",
       "      <td>1606969096264134</td>\n",
       "    </tr>\n",
       "    <tr>\n",
       "      <th>2</th>\n",
       "      <td>354393944896674</td>\n",
       "      <td>1606969096264134</td>\n",
       "    </tr>\n",
       "    <tr>\n",
       "      <th>3</th>\n",
       "      <td>1698350500494930</td>\n",
       "      <td>1606969096264134</td>\n",
       "    </tr>\n",
       "    <tr>\n",
       "      <th>4</th>\n",
       "      <td>1775177359410467</td>\n",
       "      <td>1606969096264134</td>\n",
       "    </tr>\n",
       "  </tbody>\n",
       "</table>\n",
       "</div>"
      ],
      "text/plain": [
       "   user_facebook_id  event_facebook_id\n",
       "0   201098027006232   1606969096264134\n",
       "1   334566996897353   1606969096264134\n",
       "2   354393944896674   1606969096264134\n",
       "3  1698350500494930   1606969096264134\n",
       "4  1775177359410467   1606969096264134"
      ]
     },
     "execution_count": 12,
     "metadata": {},
     "output_type": "execute_result"
    }
   ],
   "source": [
    "attending.head()"
   ]
  },
  {
   "cell_type": "markdown",
   "metadata": {},
   "source": [
    "## Places"
   ]
  },
  {
   "cell_type": "code",
   "execution_count": 21,
   "metadata": {},
   "outputs": [
    {
     "data": {
      "text/html": [
       "<div>\n",
       "<style>\n",
       "    .dataframe thead tr:only-child th {\n",
       "        text-align: right;\n",
       "    }\n",
       "\n",
       "    .dataframe thead th {\n",
       "        text-align: left;\n",
       "    }\n",
       "\n",
       "    .dataframe tbody tr th {\n",
       "        vertical-align: top;\n",
       "    }\n",
       "</style>\n",
       "<table border=\"1\" class=\"dataframe\">\n",
       "  <thead>\n",
       "    <tr style=\"text-align: right;\">\n",
       "      <th></th>\n",
       "      <th>place_name</th>\n",
       "    </tr>\n",
       "    <tr>\n",
       "      <th>facebook_id</th>\n",
       "      <th></th>\n",
       "    </tr>\n",
       "  </thead>\n",
       "  <tbody>\n",
       "    <tr>\n",
       "      <th>1000321563316078</th>\n",
       "      <td>Galeria Sztuki Współczesnej BWA w Katowicach</td>\n",
       "    </tr>\n",
       "    <tr>\n",
       "      <th>1000519489971322</th>\n",
       "      <td>Kinoteatr Rialto</td>\n",
       "    </tr>\n",
       "    <tr>\n",
       "      <th>1000566356639241</th>\n",
       "      <td>Miejski Dom Kultury Koszutka</td>\n",
       "    </tr>\n",
       "    <tr>\n",
       "      <th>1001073743249429</th>\n",
       "      <td>Bookszpan Katowice</td>\n",
       "    </tr>\n",
       "    <tr>\n",
       "      <th>1001137926666751</th>\n",
       "      <td>Kontenery Kultury</td>\n",
       "    </tr>\n",
       "  </tbody>\n",
       "</table>\n",
       "</div>"
      ],
      "text/plain": [
       "                                                    place_name\n",
       "facebook_id                                                   \n",
       "1000321563316078  Galeria Sztuki Współczesnej BWA w Katowicach\n",
       "1000519489971322                              Kinoteatr Rialto\n",
       "1000566356639241                  Miejski Dom Kultury Koszutka\n",
       "1001073743249429                            Bookszpan Katowice\n",
       "1001137926666751                             Kontenery Kultury"
      ]
     },
     "execution_count": 21,
     "metadata": {},
     "output_type": "execute_result"
    }
   ],
   "source": [
    "place_names = events[['place_name']].dropna()\n",
    "place_names.head()"
   ]
  },
  {
   "cell_type": "code",
   "execution_count": 83,
   "metadata": {},
   "outputs": [],
   "source": [
    "attending_place = attending.merge(place_names, left_on='event_facebook_id', right_index=True)"
   ]
  },
  {
   "cell_type": "code",
   "execution_count": 84,
   "metadata": {},
   "outputs": [
    {
     "data": {
      "text/plain": [
       "(1140789, 3)"
      ]
     },
     "execution_count": 84,
     "metadata": {},
     "output_type": "execute_result"
    }
   ],
   "source": [
    "attending_place.shape"
   ]
  },
  {
   "cell_type": "code",
   "execution_count": 119,
   "metadata": {},
   "outputs": [],
   "source": [
    "# to remove multiple occurences of the same person\n",
    "# I need to decide if I do that or not\n",
    "# right now I assume that each person for each organization counts only once\n",
    "attending_place = attending_place.groupby(['user_facebook_id', 'place_name']).first().reset_index()"
   ]
  },
  {
   "cell_type": "code",
   "execution_count": 86,
   "metadata": {},
   "outputs": [
    {
     "data": {
      "text/plain": [
       "(872019, 3)"
      ]
     },
     "execution_count": 86,
     "metadata": {},
     "output_type": "execute_result"
    }
   ],
   "source": [
    "attending_place.shape"
   ]
  },
  {
   "cell_type": "code",
   "execution_count": 88,
   "metadata": {},
   "outputs": [
    {
     "data": {
      "text/html": [
       "<div>\n",
       "<style>\n",
       "    .dataframe thead tr:only-child th {\n",
       "        text-align: right;\n",
       "    }\n",
       "\n",
       "    .dataframe thead th {\n",
       "        text-align: left;\n",
       "    }\n",
       "\n",
       "    .dataframe tbody tr th {\n",
       "        vertical-align: top;\n",
       "    }\n",
       "</style>\n",
       "<table border=\"1\" class=\"dataframe\">\n",
       "  <thead>\n",
       "    <tr style=\"text-align: right;\">\n",
       "      <th></th>\n",
       "      <th>user_facebook_id</th>\n",
       "      <th>place_name</th>\n",
       "      <th>event_facebook_id</th>\n",
       "    </tr>\n",
       "  </thead>\n",
       "  <tbody>\n",
       "    <tr>\n",
       "      <th>0</th>\n",
       "      <td>513945594052</td>\n",
       "      <td>Berghain / Panorama Bar</td>\n",
       "      <td>248364438837173</td>\n",
       "    </tr>\n",
       "    <tr>\n",
       "      <th>1</th>\n",
       "      <td>513945594052</td>\n",
       "      <td>Muzeum Śląskie</td>\n",
       "      <td>169398046731346</td>\n",
       "    </tr>\n",
       "    <tr>\n",
       "      <th>2</th>\n",
       "      <td>527755624742</td>\n",
       "      <td>KATO</td>\n",
       "      <td>398972300144397</td>\n",
       "    </tr>\n",
       "    <tr>\n",
       "      <th>3</th>\n",
       "      <td>527755624742</td>\n",
       "      <td>Katowice Centrum</td>\n",
       "      <td>1630667683847672</td>\n",
       "    </tr>\n",
       "    <tr>\n",
       "      <th>4</th>\n",
       "      <td>527755624742</td>\n",
       "      <td>Katowice Rynek</td>\n",
       "      <td>389240287866795</td>\n",
       "    </tr>\n",
       "  </tbody>\n",
       "</table>\n",
       "</div>"
      ],
      "text/plain": [
       "   user_facebook_id               place_name  event_facebook_id\n",
       "0      513945594052  Berghain / Panorama Bar    248364438837173\n",
       "1      513945594052           Muzeum Śląskie    169398046731346\n",
       "2      527755624742                     KATO    398972300144397\n",
       "3      527755624742         Katowice Centrum   1630667683847672\n",
       "4      527755624742           Katowice Rynek    389240287866795"
      ]
     },
     "execution_count": 88,
     "metadata": {},
     "output_type": "execute_result"
    }
   ],
   "source": [
    "attending_place.head()"
   ]
  },
  {
   "cell_type": "code",
   "execution_count": 89,
   "metadata": {},
   "outputs": [],
   "source": [
    "counts_place = attending_place.groupby('place_name').size().to_frame().rename(columns={0: 'count'})"
   ]
  },
  {
   "cell_type": "code",
   "execution_count": 100,
   "metadata": {},
   "outputs": [
    {
     "data": {
      "text/html": [
       "<div>\n",
       "<style>\n",
       "    .dataframe thead tr:only-child th {\n",
       "        text-align: right;\n",
       "    }\n",
       "\n",
       "    .dataframe thead th {\n",
       "        text-align: left;\n",
       "    }\n",
       "\n",
       "    .dataframe tbody tr th {\n",
       "        vertical-align: top;\n",
       "    }\n",
       "</style>\n",
       "<table border=\"1\" class=\"dataframe\">\n",
       "  <thead>\n",
       "    <tr style=\"text-align: right;\">\n",
       "      <th></th>\n",
       "      <th>count</th>\n",
       "    </tr>\n",
       "    <tr>\n",
       "      <th>place_name</th>\n",
       "      <th></th>\n",
       "    </tr>\n",
       "  </thead>\n",
       "  <tbody>\n",
       "    <tr>\n",
       "      <th>-A-R-C-H-I-B-A-R-</th>\n",
       "      <td>1344</td>\n",
       "    </tr>\n",
       "    <tr>\n",
       "      <th>3 Stawy Katowice</th>\n",
       "      <td>8</td>\n",
       "    </tr>\n",
       "    <tr>\n",
       "      <th>AEGEE-Katowice</th>\n",
       "      <td>68</td>\n",
       "    </tr>\n",
       "    <tr>\n",
       "      <th>ANNA NOCON health &amp; beauty</th>\n",
       "      <td>39</td>\n",
       "    </tr>\n",
       "    <tr>\n",
       "      <th>ASP w Katowicach</th>\n",
       "      <td>2770</td>\n",
       "    </tr>\n",
       "    <tr>\n",
       "      <th>Absurdalna</th>\n",
       "      <td>783</td>\n",
       "    </tr>\n",
       "    <tr>\n",
       "      <th>Akademia Muzyczna W Katowicach</th>\n",
       "      <td>1336</td>\n",
       "    </tr>\n",
       "    <tr>\n",
       "      <th>Akademia Muzyczna im. Karola Szymanowskiego w Katowicach</th>\n",
       "      <td>326</td>\n",
       "    </tr>\n",
       "    <tr>\n",
       "      <th>Aleja Korfantego</th>\n",
       "      <td>38</td>\n",
       "    </tr>\n",
       "    <tr>\n",
       "      <th>Alternatywa</th>\n",
       "      <td>1</td>\n",
       "    </tr>\n",
       "  </tbody>\n",
       "</table>\n",
       "</div>"
      ],
      "text/plain": [
       "                                                    count\n",
       "place_name                                               \n",
       "-A-R-C-H-I-B-A-R-                                    1344\n",
       "3 Stawy Katowice                                        8\n",
       "AEGEE-Katowice                                         68\n",
       "ANNA NOCON health & beauty                             39\n",
       "ASP w Katowicach                                     2770\n",
       "Absurdalna                                            783\n",
       "Akademia Muzyczna W Katowicach                       1336\n",
       "Akademia Muzyczna im. Karola Szymanowskiego w K...    326\n",
       "Aleja Korfantego                                       38\n",
       "Alternatywa                                             1"
      ]
     },
     "execution_count": 100,
     "metadata": {},
     "output_type": "execute_result"
    }
   ],
   "source": [
    "counts_place.head(10)"
   ]
  },
  {
   "cell_type": "code",
   "execution_count": 101,
   "metadata": {},
   "outputs": [
    {
     "data": {
      "text/plain": [
       "420"
      ]
     },
     "execution_count": 101,
     "metadata": {},
     "output_type": "execute_result"
    }
   ],
   "source": [
    "len(counts_place)"
   ]
  },
  {
   "cell_type": "code",
   "execution_count": 102,
   "metadata": {},
   "outputs": [
    {
     "data": {
      "text/plain": [
       "array([[<matplotlib.axes._subplots.AxesSubplot object at 0x10e824438>]], dtype=object)"
      ]
     },
     "execution_count": 102,
     "metadata": {},
     "output_type": "execute_result"
    },
    {
     "data": {
      "image/png": "[encoded data removed]",
      "text/plain": [
       "<matplotlib.figure.Figure at 0x10e815898>"
      ]
     },
     "metadata": {},
     "output_type": "display_data"
    }
   ],
   "source": [
    "np.log10(counts_place).hist()"
   ]
  },
  {
   "cell_type": "code",
   "execution_count": 103,
   "metadata": {
    "collapsed": true
   },
   "outputs": [],
   "source": [
    "pairs_raw = attending_place.merge(attending_place, on='user_facebook_id')"
   ]
  },
  {
   "cell_type": "code",
   "execution_count": 104,
   "metadata": {},
   "outputs": [
    {
     "name": "stdout",
     "output_type": "stream",
     "text": [
      "<class 'pandas.core.frame.DataFrame'>\n",
      "Int64Index: 6155771 entries, 0 to 6155770\n",
      "Data columns (total 5 columns):\n",
      "user_facebook_id       int64\n",
      "place_name_x           object\n",
      "event_facebook_id_x    int64\n",
      "place_name_y           object\n",
      "event_facebook_id_y    int64\n",
      "dtypes: int64(3), object(2)\n",
      "memory usage: 281.8+ MB\n"
     ]
    }
   ],
   "source": [
    "pairs_raw.info()"
   ]
  },
  {
   "cell_type": "code",
   "execution_count": 109,
   "metadata": {
    "collapsed": true
   },
   "outputs": [],
   "source": [
    "pairs = pairs_raw.groupby(['place_name_x', 'place_name_y']).size() \\\n",
    "  .reset_index().rename(columns={0: 'count'})"
   ]
  },
  {
   "cell_type": "code",
   "execution_count": 110,
   "metadata": {
    "collapsed": true
   },
   "outputs": [],
   "source": [
    "pairs = pairs \\\n",
    "  .merge(counts_place, left_on='place_name_x', right_index=True, suffixes=['', '_x']) \\\n",
    "  .merge(counts_place, left_on='place_name_y', right_index=True, suffixes=['', '_y'])"
   ]
  },
  {
   "cell_type": "code",
   "execution_count": 111,
   "metadata": {},
   "outputs": [
    {
     "data": {
      "text/plain": [
       "419787"
      ]
     },
     "execution_count": 111,
     "metadata": {},
     "output_type": "execute_result"
    }
   ],
   "source": [
    "n_users = len(set(attending_place['user_facebook_id']))\n",
    "n_users"
   ]
  },
  {
   "cell_type": "code",
   "execution_count": 112,
   "metadata": {},
   "outputs": [],
   "source": [
    "pairs['pmi'] = np.log(n_users * pairs['count'] / (pairs['count_x'] * pairs['count_y']))"
   ]
  },
  {
   "cell_type": "code",
   "execution_count": 113,
   "metadata": {},
   "outputs": [
    {
     "data": {
      "text/plain": [
       "count    91980.000000\n",
       "mean         2.893693\n",
       "std          1.921265\n",
       "min         -4.462894\n",
       "25%          1.701430\n",
       "50%          2.850259\n",
       "75%          3.951126\n",
       "max         12.947503\n",
       "Name: pmi, dtype: float64"
      ]
     },
     "execution_count": 113,
     "metadata": {},
     "output_type": "execute_result"
    }
   ],
   "source": [
    "# is it correct? or jsut because matrix is sparse I miss 'zeros'?\n",
    "pairs['pmi'].describe()"
   ]
  },
  {
   "cell_type": "code",
   "execution_count": 114,
   "metadata": {},
   "outputs": [
    {
     "data": {
      "text/plain": [
       "(91980, 6)"
      ]
     },
     "execution_count": 114,
     "metadata": {},
     "output_type": "execute_result"
    }
   ],
   "source": [
    "pairs.shape"
   ]
  },
  {
   "cell_type": "code",
   "execution_count": 115,
   "metadata": {},
   "outputs": [
    {
     "data": {
      "text/plain": [
       "(71152, 6)"
      ]
     },
     "execution_count": 115,
     "metadata": {},
     "output_type": "execute_result"
    }
   ],
   "source": [
    "pairs.loc[lambda df: df['count'] > 1].shape"
   ]
  },
  {
   "cell_type": "code",
   "execution_count": 116,
   "metadata": {},
   "outputs": [
    {
     "data": {
      "text/plain": [
       "(60099, 6)"
      ]
     },
     "execution_count": 116,
     "metadata": {},
     "output_type": "execute_result"
    }
   ],
   "source": [
    "pairs.loc[lambda df: df['count'] > 2].shape"
   ]
  },
  {
   "cell_type": "code",
   "execution_count": 117,
   "metadata": {},
   "outputs": [
    {
     "data": {
      "text/html": [
       "<div>\n",
       "<style>\n",
       "    .dataframe thead tr:only-child th {\n",
       "        text-align: right;\n",
       "    }\n",
       "\n",
       "    .dataframe thead th {\n",
       "        text-align: left;\n",
       "    }\n",
       "\n",
       "    .dataframe tbody tr th {\n",
       "        vertical-align: top;\n",
       "    }\n",
       "</style>\n",
       "<table border=\"1\" class=\"dataframe\">\n",
       "  <thead>\n",
       "    <tr style=\"text-align: right;\">\n",
       "      <th></th>\n",
       "      <th>place_name_x</th>\n",
       "      <th>place_name_y</th>\n",
       "      <th>count</th>\n",
       "      <th>count_x</th>\n",
       "      <th>count_y</th>\n",
       "      <th>pmi</th>\n",
       "    </tr>\n",
       "  </thead>\n",
       "  <tbody>\n",
       "    <tr>\n",
       "      <th>0</th>\n",
       "      <td>-A-R-C-H-I-B-A-R-</td>\n",
       "      <td>-A-R-C-H-I-B-A-R-</td>\n",
       "      <td>1344</td>\n",
       "      <td>1344</td>\n",
       "      <td>1344</td>\n",
       "      <td>5.744097</td>\n",
       "    </tr>\n",
       "    <tr>\n",
       "      <th>409</th>\n",
       "      <td>AEGEE-Katowice</td>\n",
       "      <td>-A-R-C-H-I-B-A-R-</td>\n",
       "      <td>1</td>\n",
       "      <td>68</td>\n",
       "      <td>1344</td>\n",
       "      <td>1.524589</td>\n",
       "    </tr>\n",
       "    <tr>\n",
       "      <th>522</th>\n",
       "      <td>ANNA NOCON health &amp; beauty</td>\n",
       "      <td>-A-R-C-H-I-B-A-R-</td>\n",
       "      <td>3</td>\n",
       "      <td>39</td>\n",
       "      <td>1344</td>\n",
       "      <td>3.179148</td>\n",
       "    </tr>\n",
       "    <tr>\n",
       "      <th>692</th>\n",
       "      <td>ASP w Katowicach</td>\n",
       "      <td>-A-R-C-H-I-B-A-R-</td>\n",
       "      <td>151</td>\n",
       "      <td>2770</td>\n",
       "      <td>1344</td>\n",
       "      <td>2.834774</td>\n",
       "    </tr>\n",
       "    <tr>\n",
       "      <th>1072</th>\n",
       "      <td>Absurdalna</td>\n",
       "      <td>-A-R-C-H-I-B-A-R-</td>\n",
       "      <td>34</td>\n",
       "      <td>783</td>\n",
       "      <td>1344</td>\n",
       "      <td>2.607325</td>\n",
       "    </tr>\n",
       "  </tbody>\n",
       "</table>\n",
       "</div>"
      ],
      "text/plain": [
       "                    place_name_x       place_name_y  count  count_x  count_y  \\\n",
       "0              -A-R-C-H-I-B-A-R-  -A-R-C-H-I-B-A-R-   1344     1344     1344   \n",
       "409               AEGEE-Katowice  -A-R-C-H-I-B-A-R-      1       68     1344   \n",
       "522   ANNA NOCON health & beauty  -A-R-C-H-I-B-A-R-      3       39     1344   \n",
       "692             ASP w Katowicach  -A-R-C-H-I-B-A-R-    151     2770     1344   \n",
       "1072                  Absurdalna  -A-R-C-H-I-B-A-R-     34      783     1344   \n",
       "\n",
       "           pmi  \n",
       "0     5.744097  \n",
       "409   1.524589  \n",
       "522   3.179148  \n",
       "692   2.834774  \n",
       "1072  2.607325  "
      ]
     },
     "execution_count": 117,
     "metadata": {},
     "output_type": "execute_result"
    }
   ],
   "source": [
    "pairs.head()"
   ]
  },
  {
   "cell_type": "code",
   "execution_count": 118,
   "metadata": {
    "collapsed": true
   },
   "outputs": [],
   "source": [
    "pairs.to_csv(\"data/processed/pair_count_maybe_place.csv\", index=False)"
   ]
  },
  {
   "cell_type": "markdown",
   "metadata": {
    "collapsed": true
   },
   "source": [
    "## Owners"
   ]
  },
  {
   "cell_type": "code",
   "execution_count": 136,
   "metadata": {},
   "outputs": [
    {
     "data": {
      "text/html": [
       "<div>\n",
       "<style>\n",
       "    .dataframe thead tr:only-child th {\n",
       "        text-align: right;\n",
       "    }\n",
       "\n",
       "    .dataframe thead th {\n",
       "        text-align: left;\n",
       "    }\n",
       "\n",
       "    .dataframe tbody tr th {\n",
       "        vertical-align: top;\n",
       "    }\n",
       "</style>\n",
       "<table border=\"1\" class=\"dataframe\">\n",
       "  <thead>\n",
       "    <tr style=\"text-align: right;\">\n",
       "      <th></th>\n",
       "      <th>owner_name</th>\n",
       "    </tr>\n",
       "    <tr>\n",
       "      <th>facebook_id</th>\n",
       "      <th></th>\n",
       "    </tr>\n",
       "  </thead>\n",
       "  <tbody>\n",
       "    <tr>\n",
       "      <th>1000321563316078</th>\n",
       "      <td>Galeria Sztuki Współczesnej BWA w Katowicach</td>\n",
       "    </tr>\n",
       "    <tr>\n",
       "      <th>1000474419998733</th>\n",
       "      <td>MDK \"Południe\" w Katowicach</td>\n",
       "    </tr>\n",
       "    <tr>\n",
       "      <th>1000519489971322</th>\n",
       "      <td>Kinoteatr Rialto</td>\n",
       "    </tr>\n",
       "    <tr>\n",
       "      <th>1000566356639241</th>\n",
       "      <td>Miejski Dom Kultury Koszutka</td>\n",
       "    </tr>\n",
       "    <tr>\n",
       "      <th>1001073743249429</th>\n",
       "      <td>Bookszpan Katowice</td>\n",
       "    </tr>\n",
       "  </tbody>\n",
       "</table>\n",
       "</div>"
      ],
      "text/plain": [
       "                                                    owner_name\n",
       "facebook_id                                                   \n",
       "1000321563316078  Galeria Sztuki Współczesnej BWA w Katowicach\n",
       "1000474419998733                   MDK \"Południe\" w Katowicach\n",
       "1000519489971322                              Kinoteatr Rialto\n",
       "1000566356639241                  Miejski Dom Kultury Koszutka\n",
       "1001073743249429                            Bookszpan Katowice"
      ]
     },
     "execution_count": 136,
     "metadata": {},
     "output_type": "execute_result"
    }
   ],
   "source": [
    "owner_names = events[['owner_name']].dropna()\n",
    "owner_names.head()"
   ]
  },
  {
   "cell_type": "code",
   "execution_count": 137,
   "metadata": {
    "collapsed": true
   },
   "outputs": [],
   "source": [
    "attending_owner = attending.merge(owner_names, left_on='event_facebook_id', right_index=True)"
   ]
  },
  {
   "cell_type": "code",
   "execution_count": 138,
   "metadata": {
    "collapsed": true
   },
   "outputs": [],
   "source": [
    "# to remove multiple occurences of the same person\n",
    "# I need to decide if I do that or not\n",
    "# right now I assume that each person for each organization counts only once\n",
    "attending_owner = attending_owner.groupby(['user_facebook_id', 'owner_name']).first().reset_index()"
   ]
  },
  {
   "cell_type": "code",
   "execution_count": 139,
   "metadata": {
    "collapsed": true
   },
   "outputs": [],
   "source": [
    "counts_owner = attending_owner.groupby('owner_name').size().to_frame().rename(columns={0: 'count'})"
   ]
  },
  {
   "cell_type": "code",
   "execution_count": 140,
   "metadata": {},
   "outputs": [
    {
     "data": {
      "text/html": [
       "<div>\n",
       "<style>\n",
       "    .dataframe thead tr:only-child th {\n",
       "        text-align: right;\n",
       "    }\n",
       "\n",
       "    .dataframe thead th {\n",
       "        text-align: left;\n",
       "    }\n",
       "\n",
       "    .dataframe tbody tr th {\n",
       "        vertical-align: top;\n",
       "    }\n",
       "</style>\n",
       "<table border=\"1\" class=\"dataframe\">\n",
       "  <thead>\n",
       "    <tr style=\"text-align: right;\">\n",
       "      <th></th>\n",
       "      <th>count</th>\n",
       "    </tr>\n",
       "    <tr>\n",
       "      <th>owner_name</th>\n",
       "      <th></th>\n",
       "    </tr>\n",
       "  </thead>\n",
       "  <tbody>\n",
       "    <tr>\n",
       "      <th>\"Camerata Silesia\" Zespół Śpiewaków Miasta Katowice</th>\n",
       "      <td>759</td>\n",
       "    </tr>\n",
       "    <tr>\n",
       "      <th>\"eM Band\"</th>\n",
       "      <td>158</td>\n",
       "    </tr>\n",
       "    <tr>\n",
       "      <th>-A-R-C-H-I-B-A-R-</th>\n",
       "      <td>1515</td>\n",
       "    </tr>\n",
       "    <tr>\n",
       "      <th>1st Year Students Drawing Studio - ASP Katowice</th>\n",
       "      <td>4</td>\n",
       "    </tr>\n",
       "    <tr>\n",
       "      <th>4 Design Days</th>\n",
       "      <td>5414</td>\n",
       "    </tr>\n",
       "    <tr>\n",
       "      <th>A&lt;24</th>\n",
       "      <td>1166</td>\n",
       "    </tr>\n",
       "    <tr>\n",
       "      <th>AEGEE-Katowice</th>\n",
       "      <td>905</td>\n",
       "    </tr>\n",
       "    <tr>\n",
       "      <th>ANIMATOR</th>\n",
       "      <td>103</td>\n",
       "    </tr>\n",
       "    <tr>\n",
       "      <th>ARCHIKIDS Katowice</th>\n",
       "      <td>551</td>\n",
       "    </tr>\n",
       "    <tr>\n",
       "      <th>ASP w Katowicach</th>\n",
       "      <td>4075</td>\n",
       "    </tr>\n",
       "  </tbody>\n",
       "</table>\n",
       "</div>"
      ],
      "text/plain": [
       "                                                    count\n",
       "owner_name                                               \n",
       "\"Camerata Silesia\" Zespół Śpiewaków Miasta Kato...    759\n",
       "\"eM Band\"                                             158\n",
       "-A-R-C-H-I-B-A-R-                                    1515\n",
       "1st Year Students Drawing Studio - ASP Katowice         4\n",
       "4 Design Days                                        5414\n",
       "A<24                                                 1166\n",
       "AEGEE-Katowice                                        905\n",
       "ANIMATOR                                              103\n",
       "ARCHIKIDS Katowice                                    551\n",
       "ASP w Katowicach                                     4075"
      ]
     },
     "execution_count": 140,
     "metadata": {},
     "output_type": "execute_result"
    }
   ],
   "source": [
    "counts_owner.head(10)"
   ]
  },
  {
   "cell_type": "code",
   "execution_count": 141,
   "metadata": {},
   "outputs": [
    {
     "data": {
      "text/plain": [
       "array([[<matplotlib.axes._subplots.AxesSubplot object at 0x103b96e48>]], dtype=object)"
      ]
     },
     "execution_count": 141,
     "metadata": {},
     "output_type": "execute_result"
    },
    {
     "data": {
      "image/png": "[encoded data removed]",
      "text/plain": [
       "<matplotlib.figure.Figure at 0x110117828>"
      ]
     },
     "metadata": {},
     "output_type": "display_data"
    }
   ],
   "source": [
    "np.log10(counts_owner).hist()"
   ]
  },
  {
   "cell_type": "code",
   "execution_count": 142,
   "metadata": {},
   "outputs": [
    {
     "data": {
      "text/plain": [
       "404"
      ]
     },
     "execution_count": 142,
     "metadata": {},
     "output_type": "execute_result"
    }
   ],
   "source": [
    "len(counts_owner)"
   ]
  },
  {
   "cell_type": "code",
   "execution_count": 157,
   "metadata": {
    "collapsed": true
   },
   "outputs": [],
   "source": [
    "pairs_raw = attending_owner.merge(attending_owner, on='user_facebook_id')"
   ]
  },
  {
   "cell_type": "code",
   "execution_count": 158,
   "metadata": {
    "collapsed": true
   },
   "outputs": [],
   "source": [
    "pairs = pairs_raw.groupby(['owner_name_x', 'owner_name_y']).size() \\\n",
    "  .reset_index().rename(columns={0: 'count'})"
   ]
  },
  {
   "cell_type": "code",
   "execution_count": 159,
   "metadata": {
    "collapsed": true
   },
   "outputs": [],
   "source": [
    "pairs = pairs \\\n",
    "  .merge(counts_owner, left_on='owner_name_x', right_index=True, suffixes=['', '_x']) \\\n",
    "  .merge(counts_owner, left_on='owner_name_y', right_index=True, suffixes=['', '_y'])"
   ]
  },
  {
   "cell_type": "code",
   "execution_count": 160,
   "metadata": {},
   "outputs": [
    {
     "data": {
      "text/plain": [
       "401626"
      ]
     },
     "execution_count": 160,
     "metadata": {},
     "output_type": "execute_result"
    }
   ],
   "source": [
    "n_users = len(set(attending_owner['user_facebook_id']))\n",
    "n_users"
   ]
  },
  {
   "cell_type": "code",
   "execution_count": 161,
   "metadata": {},
   "outputs": [],
   "source": [
    "pairs['pmi'] = np.log(n_users * pairs['count'] / (pairs['count_x'] * pairs['count_y']))"
   ]
  },
  {
   "cell_type": "code",
   "execution_count": 162,
   "metadata": {},
   "outputs": [
    {
     "data": {
      "text/plain": [
       "count    108960.000000\n",
       "mean          2.388154\n",
       "std           1.552885\n",
       "min          -4.680584\n",
       "25%           1.474338\n",
       "50%           2.503359\n",
       "75%           3.402899\n",
       "max          12.903277\n",
       "Name: pmi, dtype: float64"
      ]
     },
     "execution_count": 162,
     "metadata": {},
     "output_type": "execute_result"
    }
   ],
   "source": [
    "# is it correct? or jsut because matrix is sparse I miss 'zeros'?\n",
    "pairs['pmi'].describe()"
   ]
  },
  {
   "cell_type": "code",
   "execution_count": 163,
   "metadata": {},
   "outputs": [
    {
     "data": {
      "text/plain": [
       "(108960, 6)"
      ]
     },
     "execution_count": 163,
     "metadata": {},
     "output_type": "execute_result"
    }
   ],
   "source": [
    "pairs.shape"
   ]
  },
  {
   "cell_type": "code",
   "execution_count": 164,
   "metadata": {},
   "outputs": [
    {
     "data": {
      "text/html": [
       "<div>\n",
       "<style>\n",
       "    .dataframe thead tr:only-child th {\n",
       "        text-align: right;\n",
       "    }\n",
       "\n",
       "    .dataframe thead th {\n",
       "        text-align: left;\n",
       "    }\n",
       "\n",
       "    .dataframe tbody tr th {\n",
       "        vertical-align: top;\n",
       "    }\n",
       "</style>\n",
       "<table border=\"1\" class=\"dataframe\">\n",
       "  <thead>\n",
       "    <tr style=\"text-align: right;\">\n",
       "      <th></th>\n",
       "      <th>owner_name_x</th>\n",
       "      <th>owner_name_y</th>\n",
       "      <th>count</th>\n",
       "      <th>count_x</th>\n",
       "      <th>count_y</th>\n",
       "      <th>pmi</th>\n",
       "    </tr>\n",
       "  </thead>\n",
       "  <tbody>\n",
       "    <tr>\n",
       "      <th>0</th>\n",
       "      <td>\"Camerata Silesia\" Zespół Śpiewaków Miasta Kat...</td>\n",
       "      <td>\"Camerata Silesia\" Zespół Śpiewaków Miasta Kat...</td>\n",
       "      <td>759</td>\n",
       "      <td>759</td>\n",
       "      <td>759</td>\n",
       "      <td>6.271275</td>\n",
       "    </tr>\n",
       "    <tr>\n",
       "      <th>328</th>\n",
       "      <td>\"eM Band\"</td>\n",
       "      <td>\"Camerata Silesia\" Zespół Śpiewaków Miasta Kat...</td>\n",
       "      <td>11</td>\n",
       "      <td>158</td>\n",
       "      <td>759</td>\n",
       "      <td>3.606575</td>\n",
       "    </tr>\n",
       "    <tr>\n",
       "      <th>509</th>\n",
       "      <td>-A-R-C-H-I-B-A-R-</td>\n",
       "      <td>\"Camerata Silesia\" Zespół Śpiewaków Miasta Kat...</td>\n",
       "      <td>16</td>\n",
       "      <td>1515</td>\n",
       "      <td>759</td>\n",
       "      <td>1.720693</td>\n",
       "    </tr>\n",
       "    <tr>\n",
       "      <th>887</th>\n",
       "      <td>4 Design Days</td>\n",
       "      <td>\"Camerata Silesia\" Zespół Śpiewaków Miasta Kat...</td>\n",
       "      <td>18</td>\n",
       "      <td>5414</td>\n",
       "      <td>759</td>\n",
       "      <td>0.564903</td>\n",
       "    </tr>\n",
       "    <tr>\n",
       "      <th>1255</th>\n",
       "      <td>A&lt;24</td>\n",
       "      <td>\"Camerata Silesia\" Zespół Śpiewaków Miasta Kat...</td>\n",
       "      <td>6</td>\n",
       "      <td>1166</td>\n",
       "      <td>759</td>\n",
       "      <td>1.001700</td>\n",
       "    </tr>\n",
       "  </tbody>\n",
       "</table>\n",
       "</div>"
      ],
      "text/plain": [
       "                                           owner_name_x  \\\n",
       "0     \"Camerata Silesia\" Zespół Śpiewaków Miasta Kat...   \n",
       "328                                           \"eM Band\"   \n",
       "509                                   -A-R-C-H-I-B-A-R-   \n",
       "887                                       4 Design Days   \n",
       "1255                                               A<24   \n",
       "\n",
       "                                           owner_name_y  count  count_x  \\\n",
       "0     \"Camerata Silesia\" Zespół Śpiewaków Miasta Kat...    759      759   \n",
       "328   \"Camerata Silesia\" Zespół Śpiewaków Miasta Kat...     11      158   \n",
       "509   \"Camerata Silesia\" Zespół Śpiewaków Miasta Kat...     16     1515   \n",
       "887   \"Camerata Silesia\" Zespół Śpiewaków Miasta Kat...     18     5414   \n",
       "1255  \"Camerata Silesia\" Zespół Śpiewaków Miasta Kat...      6     1166   \n",
       "\n",
       "      count_y       pmi  \n",
       "0         759  6.271275  \n",
       "328       759  3.606575  \n",
       "509       759  1.720693  \n",
       "887       759  0.564903  \n",
       "1255      759  1.001700  "
      ]
     },
     "execution_count": 164,
     "metadata": {},
     "output_type": "execute_result"
    }
   ],
   "source": [
    "pairs.head()"
   ]
  },
  {
   "cell_type": "code",
   "execution_count": 165,
   "metadata": {
    "collapsed": true
   },
   "outputs": [],
   "source": [
    "pairs.to_csv(\"data/processed/pair_count_maybe_owner.csv\", index=False)"
   ]
  },
  {
   "cell_type": "code",
   "execution_count": null,
   "metadata": {
    "collapsed": true
   },
   "outputs": [],
   "source": []
  }
 ],
 "metadata": {
  "kernelspec": {
   "display_name": "Python [default]",
   "language": "python",
   "name": "python3"
  },
  "language_info": {
   "codemirror_mode": {
    "name": "ipython",
    "version": 3
   },
   "file_extension": ".py",
   "mimetype": "text/x-python",
   "name": "python",
   "nbconvert_exporter": "python",
   "pygments_lexer": "ipython3",
   "version": "3.5.3"
  }
 },
 "nbformat": 4,
 "nbformat_minor": 2
}
