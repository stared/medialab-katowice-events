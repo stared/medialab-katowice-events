{
 "cells": [
  {
   "cell_type": "code",
   "execution_count": 100,
   "metadata": {
    "collapsed": true
   },
   "outputs": [],
   "source": [
    "%matplotlib inline\n",
    "import pandas as pd\n",
    "import numpy as np"
   ]
  },
  {
   "cell_type": "code",
   "execution_count": 101,
   "metadata": {
    "collapsed": true
   },
   "outputs": [],
   "source": [
    "participation = pd.read_csv(\"data/users_participating_events.csv\")"
   ]
  },
  {
   "cell_type": "code",
   "execution_count": 102,
   "metadata": {},
   "outputs": [
    {
     "data": {
      "text/html": [
       "<div>\n",
       "<style>\n",
       "    .dataframe thead tr:only-child th {\n",
       "        text-align: right;\n",
       "    }\n",
       "\n",
       "    .dataframe thead th {\n",
       "        text-align: left;\n",
       "    }\n",
       "\n",
       "    .dataframe tbody tr th {\n",
       "        vertical-align: top;\n",
       "    }\n",
       "</style>\n",
       "<table border=\"1\" class=\"dataframe\">\n",
       "  <thead>\n",
       "    <tr style=\"text-align: right;\">\n",
       "      <th></th>\n",
       "      <th>user_facebook_id</th>\n",
       "      <th>rsvp_status</th>\n",
       "      <th>event_facebook_id</th>\n",
       "    </tr>\n",
       "  </thead>\n",
       "  <tbody>\n",
       "    <tr>\n",
       "      <th>0</th>\n",
       "      <td>201098027006232</td>\n",
       "      <td>attending</td>\n",
       "      <td>1606969096264134</td>\n",
       "    </tr>\n",
       "    <tr>\n",
       "      <th>1</th>\n",
       "      <td>334566996897353</td>\n",
       "      <td>attending</td>\n",
       "      <td>1606969096264134</td>\n",
       "    </tr>\n",
       "    <tr>\n",
       "      <th>2</th>\n",
       "      <td>354393944896674</td>\n",
       "      <td>attending</td>\n",
       "      <td>1606969096264134</td>\n",
       "    </tr>\n",
       "    <tr>\n",
       "      <th>3</th>\n",
       "      <td>1698350500494930</td>\n",
       "      <td>attending</td>\n",
       "      <td>1606969096264134</td>\n",
       "    </tr>\n",
       "    <tr>\n",
       "      <th>4</th>\n",
       "      <td>1775177359410467</td>\n",
       "      <td>attending</td>\n",
       "      <td>1606969096264134</td>\n",
       "    </tr>\n",
       "  </tbody>\n",
       "</table>\n",
       "</div>"
      ],
      "text/plain": [
       "   user_facebook_id rsvp_status  event_facebook_id\n",
       "0   201098027006232   attending   1606969096264134\n",
       "1   334566996897353   attending   1606969096264134\n",
       "2   354393944896674   attending   1606969096264134\n",
       "3  1698350500494930   attending   1606969096264134\n",
       "4  1775177359410467   attending   1606969096264134"
      ]
     },
     "execution_count": 102,
     "metadata": {},
     "output_type": "execute_result"
    }
   ],
   "source": [
    "participation.head()"
   ]
  },
  {
   "cell_type": "code",
   "execution_count": 103,
   "metadata": {
    "collapsed": true
   },
   "outputs": [],
   "source": [
    "events = pd.read_csv(\"data/events.csv\", index_col='facebook_id')\n",
    "events = events.loc[:, ['attending_count', 'facebook_page', 'name', 'place_name', 'owner_id', 'owner_name']]"
   ]
  },
  {
   "cell_type": "code",
   "execution_count": 104,
   "metadata": {},
   "outputs": [
    {
     "data": {
      "text/html": [
       "<div>\n",
       "<style>\n",
       "    .dataframe thead tr:only-child th {\n",
       "        text-align: right;\n",
       "    }\n",
       "\n",
       "    .dataframe thead th {\n",
       "        text-align: left;\n",
       "    }\n",
       "\n",
       "    .dataframe tbody tr th {\n",
       "        vertical-align: top;\n",
       "    }\n",
       "</style>\n",
       "<table border=\"1\" class=\"dataframe\">\n",
       "  <thead>\n",
       "    <tr style=\"text-align: right;\">\n",
       "      <th></th>\n",
       "      <th>user_facebook_id</th>\n",
       "      <th>rsvp_status</th>\n",
       "      <th>event_facebook_id</th>\n",
       "    </tr>\n",
       "  </thead>\n",
       "  <tbody>\n",
       "    <tr>\n",
       "      <th>0</th>\n",
       "      <td>201098027006232</td>\n",
       "      <td>attending</td>\n",
       "      <td>1606969096264134</td>\n",
       "    </tr>\n",
       "    <tr>\n",
       "      <th>1</th>\n",
       "      <td>334566996897353</td>\n",
       "      <td>attending</td>\n",
       "      <td>1606969096264134</td>\n",
       "    </tr>\n",
       "    <tr>\n",
       "      <th>2</th>\n",
       "      <td>354393944896674</td>\n",
       "      <td>attending</td>\n",
       "      <td>1606969096264134</td>\n",
       "    </tr>\n",
       "    <tr>\n",
       "      <th>3</th>\n",
       "      <td>1698350500494930</td>\n",
       "      <td>attending</td>\n",
       "      <td>1606969096264134</td>\n",
       "    </tr>\n",
       "    <tr>\n",
       "      <th>4</th>\n",
       "      <td>1775177359410467</td>\n",
       "      <td>attending</td>\n",
       "      <td>1606969096264134</td>\n",
       "    </tr>\n",
       "  </tbody>\n",
       "</table>\n",
       "</div>"
      ],
      "text/plain": [
       "   user_facebook_id rsvp_status  event_facebook_id\n",
       "0   201098027006232   attending   1606969096264134\n",
       "1   334566996897353   attending   1606969096264134\n",
       "2   354393944896674   attending   1606969096264134\n",
       "3  1698350500494930   attending   1606969096264134\n",
       "4  1775177359410467   attending   1606969096264134"
      ]
     },
     "execution_count": 104,
     "metadata": {},
     "output_type": "execute_result"
    }
   ],
   "source": [
    "participation.head()"
   ]
  },
  {
   "cell_type": "code",
   "execution_count": 105,
   "metadata": {},
   "outputs": [
    {
     "name": "stdout",
     "output_type": "stream",
     "text": [
      "<class 'pandas.core.frame.DataFrame'>\n",
      "RangeIndex: 3667328 entries, 0 to 3667327\n",
      "Data columns (total 3 columns):\n",
      "user_facebook_id     int64\n",
      "rsvp_status          object\n",
      "event_facebook_id    int64\n",
      "dtypes: int64(2), object(1)\n",
      "memory usage: 83.9+ MB\n"
     ]
    }
   ],
   "source": [
    "participation.info()"
   ]
  },
  {
   "cell_type": "code",
   "execution_count": 106,
   "metadata": {
    "collapsed": true
   },
   "outputs": [],
   "source": [
    "# only attending\n",
    "attending = participation.loc[lambda df: df.rsvp_status == 'attending', ['user_facebook_id', 'event_facebook_id']]\n",
    "\n",
    "## attending and maybe\n",
    "# attending = participation.loc[lambda df: df.rsvp_status.isin(['attending', 'maybe']),\n",
    "#                              ['user_facebook_id', 'event_facebook_id']]"
   ]
  },
  {
   "cell_type": "code",
   "execution_count": 107,
   "metadata": {},
   "outputs": [],
   "source": [
    "# data cleaning stuff, as some are only in one (consult `1_coinccidenses_exploration`)\n",
    "common_indices = set(events.index).intersection(set(attending['event_facebook_id']))\n",
    "attending = attending.loc[lambda df: df['event_facebook_id'].isin(common_indices)]"
   ]
  },
  {
   "cell_type": "code",
   "execution_count": 108,
   "metadata": {},
   "outputs": [
    {
     "data": {
      "text/html": [
       "<div>\n",
       "<style>\n",
       "    .dataframe thead tr:only-child th {\n",
       "        text-align: right;\n",
       "    }\n",
       "\n",
       "    .dataframe thead th {\n",
       "        text-align: left;\n",
       "    }\n",
       "\n",
       "    .dataframe tbody tr th {\n",
       "        vertical-align: top;\n",
       "    }\n",
       "</style>\n",
       "<table border=\"1\" class=\"dataframe\">\n",
       "  <thead>\n",
       "    <tr style=\"text-align: right;\">\n",
       "      <th></th>\n",
       "      <th>user_facebook_id</th>\n",
       "      <th>event_facebook_id</th>\n",
       "    </tr>\n",
       "  </thead>\n",
       "  <tbody>\n",
       "    <tr>\n",
       "      <th>0</th>\n",
       "      <td>201098027006232</td>\n",
       "      <td>1606969096264134</td>\n",
       "    </tr>\n",
       "    <tr>\n",
       "      <th>1</th>\n",
       "      <td>334566996897353</td>\n",
       "      <td>1606969096264134</td>\n",
       "    </tr>\n",
       "    <tr>\n",
       "      <th>2</th>\n",
       "      <td>354393944896674</td>\n",
       "      <td>1606969096264134</td>\n",
       "    </tr>\n",
       "    <tr>\n",
       "      <th>3</th>\n",
       "      <td>1698350500494930</td>\n",
       "      <td>1606969096264134</td>\n",
       "    </tr>\n",
       "    <tr>\n",
       "      <th>4</th>\n",
       "      <td>1775177359410467</td>\n",
       "      <td>1606969096264134</td>\n",
       "    </tr>\n",
       "  </tbody>\n",
       "</table>\n",
       "</div>"
      ],
      "text/plain": [
       "   user_facebook_id  event_facebook_id\n",
       "0   201098027006232   1606969096264134\n",
       "1   334566996897353   1606969096264134\n",
       "2   354393944896674   1606969096264134\n",
       "3  1698350500494930   1606969096264134\n",
       "4  1775177359410467   1606969096264134"
      ]
     },
     "execution_count": 108,
     "metadata": {},
     "output_type": "execute_result"
    }
   ],
   "source": [
    "attending.head()"
   ]
  },
  {
   "cell_type": "code",
   "execution_count": 109,
   "metadata": {},
   "outputs": [],
   "source": [
    "counts = attending.groupby('event_facebook_id').size().to_frame().rename(columns={0: 'count'})"
   ]
  },
  {
   "cell_type": "code",
   "execution_count": 110,
   "metadata": {},
   "outputs": [
    {
     "data": {
      "text/html": [
       "<div>\n",
       "<style>\n",
       "    .dataframe thead tr:only-child th {\n",
       "        text-align: right;\n",
       "    }\n",
       "\n",
       "    .dataframe thead th {\n",
       "        text-align: left;\n",
       "    }\n",
       "\n",
       "    .dataframe tbody tr th {\n",
       "        vertical-align: top;\n",
       "    }\n",
       "</style>\n",
       "<table border=\"1\" class=\"dataframe\">\n",
       "  <thead>\n",
       "    <tr style=\"text-align: right;\">\n",
       "      <th></th>\n",
       "      <th>count</th>\n",
       "    </tr>\n",
       "    <tr>\n",
       "      <th>event_facebook_id</th>\n",
       "      <th></th>\n",
       "    </tr>\n",
       "  </thead>\n",
       "  <tbody>\n",
       "    <tr>\n",
       "      <th>100668907024083</th>\n",
       "      <td>201</td>\n",
       "    </tr>\n",
       "    <tr>\n",
       "      <th>100671793684638</th>\n",
       "      <td>23</td>\n",
       "    </tr>\n",
       "    <tr>\n",
       "      <th>100755470299906</th>\n",
       "      <td>1</td>\n",
       "    </tr>\n",
       "    <tr>\n",
       "      <th>100860333400630</th>\n",
       "      <td>21</td>\n",
       "    </tr>\n",
       "    <tr>\n",
       "      <th>100950866765022</th>\n",
       "      <td>28</td>\n",
       "    </tr>\n",
       "  </tbody>\n",
       "</table>\n",
       "</div>"
      ],
      "text/plain": [
       "                   count\n",
       "event_facebook_id       \n",
       "100668907024083      201\n",
       "100671793684638       23\n",
       "100755470299906        1\n",
       "100860333400630       21\n",
       "100950866765022       28"
      ]
     },
     "execution_count": 110,
     "metadata": {},
     "output_type": "execute_result"
    }
   ],
   "source": [
    "counts.head()"
   ]
  },
  {
   "cell_type": "code",
   "execution_count": 111,
   "metadata": {
    "collapsed": true
   },
   "outputs": [],
   "source": [
    "pairs_raw = attending.merge(attending, on='user_facebook_id')"
   ]
  },
  {
   "cell_type": "code",
   "execution_count": 112,
   "metadata": {},
   "outputs": [
    {
     "name": "stdout",
     "output_type": "stream",
     "text": [
      "<class 'pandas.core.frame.DataFrame'>\n",
      "Int64Index: 19728557 entries, 0 to 19728556\n",
      "Data columns (total 3 columns):\n",
      "user_facebook_id       int64\n",
      "event_facebook_id_x    int64\n",
      "event_facebook_id_y    int64\n",
      "dtypes: int64(3)\n",
      "memory usage: 602.1 MB\n"
     ]
    }
   ],
   "source": [
    "pairs_raw.info()"
   ]
  },
  {
   "cell_type": "code",
   "execution_count": 113,
   "metadata": {},
   "outputs": [],
   "source": [
    "pairs = pairs_raw.groupby(['event_facebook_id_x', 'event_facebook_id_y']).size() \\\n",
    "  .reset_index().rename(columns={0: 'count'})"
   ]
  },
  {
   "cell_type": "code",
   "execution_count": 114,
   "metadata": {},
   "outputs": [],
   "source": [
    "pairs = pairs \\\n",
    "  .merge(counts, left_on='event_facebook_id_x', right_index=True, suffixes=['', '_x']) \\\n",
    "  .merge(counts, left_on='event_facebook_id_y', right_index=True, suffixes=['', '_y'])"
   ]
  },
  {
   "cell_type": "code",
   "execution_count": 115,
   "metadata": {},
   "outputs": [
    {
     "data": {
      "text/plain": [
       "273335"
      ]
     },
     "execution_count": 115,
     "metadata": {},
     "output_type": "execute_result"
    }
   ],
   "source": [
    "n_users = len(set(attending['user_facebook_id']))\n",
    "n_users"
   ]
  },
  {
   "cell_type": "code",
   "execution_count": 116,
   "metadata": {
    "collapsed": true
   },
   "outputs": [],
   "source": [
    "pairs['pmi'] = np.log(n_users * pairs['count'] / (pairs['count_x'] * pairs['count_y']))"
   ]
  },
  {
   "cell_type": "code",
   "execution_count": 117,
   "metadata": {},
   "outputs": [
    {
     "data": {
      "text/plain": [
       "count    5.546890e+06\n",
       "mean     4.741575e+00\n",
       "std      1.965660e+00\n",
       "min     -4.734954e+00\n",
       "25%      3.511454e+00\n",
       "50%      4.630869e+00\n",
       "75%      5.843892e+00\n",
       "max      1.251845e+01\n",
       "Name: pmi, dtype: float64"
      ]
     },
     "execution_count": 117,
     "metadata": {},
     "output_type": "execute_result"
    }
   ],
   "source": [
    "# is it correct? or jsut because matrix is sparse I miss 'zeros'?\n",
    "pairs['pmi'].describe()"
   ]
  },
  {
   "cell_type": "code",
   "execution_count": 119,
   "metadata": {},
   "outputs": [
    {
     "data": {
      "text/plain": [
       "(5546890, 6)"
      ]
     },
     "execution_count": 119,
     "metadata": {},
     "output_type": "execute_result"
    }
   ],
   "source": [
    "pairs.shape"
   ]
  },
  {
   "cell_type": "code",
   "execution_count": 120,
   "metadata": {},
   "outputs": [
    {
     "data": {
      "text/plain": [
       "(2594099, 6)"
      ]
     },
     "execution_count": 120,
     "metadata": {},
     "output_type": "execute_result"
    }
   ],
   "source": [
    "pairs.loc[lambda df: df['count'] > 1].shape"
   ]
  },
  {
   "cell_type": "code",
   "execution_count": 121,
   "metadata": {},
   "outputs": [
    {
     "data": {
      "text/plain": [
       "(1634938, 6)"
      ]
     },
     "execution_count": 121,
     "metadata": {},
     "output_type": "execute_result"
    }
   ],
   "source": [
    "pairs.loc[lambda df: df['count'] > 2].shape"
   ]
  },
  {
   "cell_type": "code",
   "execution_count": 122,
   "metadata": {},
   "outputs": [
    {
     "data": {
      "text/html": [
       "<div>\n",
       "<style>\n",
       "    .dataframe thead tr:only-child th {\n",
       "        text-align: right;\n",
       "    }\n",
       "\n",
       "    .dataframe thead th {\n",
       "        text-align: left;\n",
       "    }\n",
       "\n",
       "    .dataframe tbody tr th {\n",
       "        vertical-align: top;\n",
       "    }\n",
       "</style>\n",
       "<table border=\"1\" class=\"dataframe\">\n",
       "  <thead>\n",
       "    <tr style=\"text-align: right;\">\n",
       "      <th></th>\n",
       "      <th>event_facebook_id_x</th>\n",
       "      <th>event_facebook_id_y</th>\n",
       "      <th>count</th>\n",
       "      <th>count_x</th>\n",
       "      <th>count_y</th>\n",
       "      <th>pmi</th>\n",
       "    </tr>\n",
       "  </thead>\n",
       "  <tbody>\n",
       "    <tr>\n",
       "      <th>0</th>\n",
       "      <td>100668907024083</td>\n",
       "      <td>100668907024083</td>\n",
       "      <td>201</td>\n",
       "      <td>201</td>\n",
       "      <td>201</td>\n",
       "      <td>7.215149</td>\n",
       "    </tr>\n",
       "    <tr>\n",
       "      <th>2511</th>\n",
       "      <td>100671793684638</td>\n",
       "      <td>100668907024083</td>\n",
       "      <td>5</td>\n",
       "      <td>23</td>\n",
       "      <td>201</td>\n",
       "      <td>5.689092</td>\n",
       "    </tr>\n",
       "    <tr>\n",
       "      <th>3381</th>\n",
       "      <td>100860333400630</td>\n",
       "      <td>100668907024083</td>\n",
       "      <td>2</td>\n",
       "      <td>21</td>\n",
       "      <td>201</td>\n",
       "      <td>4.863773</td>\n",
       "    </tr>\n",
       "    <tr>\n",
       "      <th>7244</th>\n",
       "      <td>101225040052676</td>\n",
       "      <td>100668907024083</td>\n",
       "      <td>2</td>\n",
       "      <td>35</td>\n",
       "      <td>201</td>\n",
       "      <td>4.352948</td>\n",
       "    </tr>\n",
       "    <tr>\n",
       "      <th>9238</th>\n",
       "      <td>101593436871236</td>\n",
       "      <td>100668907024083</td>\n",
       "      <td>3</td>\n",
       "      <td>36</td>\n",
       "      <td>201</td>\n",
       "      <td>4.730242</td>\n",
       "    </tr>\n",
       "  </tbody>\n",
       "</table>\n",
       "</div>"
      ],
      "text/plain": [
       "      event_facebook_id_x  event_facebook_id_y  count  count_x  count_y  \\\n",
       "0         100668907024083      100668907024083    201      201      201   \n",
       "2511      100671793684638      100668907024083      5       23      201   \n",
       "3381      100860333400630      100668907024083      2       21      201   \n",
       "7244      101225040052676      100668907024083      2       35      201   \n",
       "9238      101593436871236      100668907024083      3       36      201   \n",
       "\n",
       "           pmi  \n",
       "0     7.215149  \n",
       "2511  5.689092  \n",
       "3381  4.863773  \n",
       "7244  4.352948  \n",
       "9238  4.730242  "
      ]
     },
     "execution_count": 122,
     "metadata": {},
     "output_type": "execute_result"
    }
   ],
   "source": [
    "pairs.head()"
   ]
  },
  {
   "cell_type": "code",
   "execution_count": 79,
   "metadata": {
    "collapsed": true
   },
   "outputs": [],
   "source": [
    "pairs.to_csv(\"data/processed/pair_count.csv\", index=False)"
   ]
  },
  {
   "cell_type": "code",
   "execution_count": 99,
   "metadata": {
    "collapsed": true
   },
   "outputs": [],
   "source": [
    "# pairs.loc[lambda df: df['count'] > 2].to_csv(\"data/processed/pair_count_maybe_3.csv\", index=False)"
   ]
  },
  {
   "cell_type": "markdown",
   "metadata": {},
   "source": [
    "## To do\n",
    "\n",
    "* per miejsce\n",
    "* per organizacja\n",
    "\n",
    "x\n",
    "\n",
    "* conditional probability (done, sort of)\n",
    "* PMI\n",
    "\n",
    "x\n",
    "\n",
    "* takie into account attending and interested"
   ]
  },
  {
   "cell_type": "code",
   "execution_count": null,
   "metadata": {
    "collapsed": true
   },
   "outputs": [],
   "source": []
  }
 ],
 "metadata": {
  "kernelspec": {
   "display_name": "Python [default]",
   "language": "python",
   "name": "python3"
  },
  "language_info": {
   "codemirror_mode": {
    "name": "ipython",
    "version": 3
   },
   "file_extension": ".py",
   "mimetype": "text/x-python",
   "name": "python",
   "nbconvert_exporter": "python",
   "pygments_lexer": "ipython3",
   "version": "3.5.3"
  }
 },
 "nbformat": 4,
 "nbformat_minor": 2
}
