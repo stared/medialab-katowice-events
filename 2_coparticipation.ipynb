{
 "cells": [
  {
   "cell_type": "code",
   "execution_count": 1,
   "metadata": {
    "collapsed": true
   },
   "outputs": [],
   "source": [
    "%matplotlib inline\n",
    "import pandas as pd"
   ]
  },
  {
   "cell_type": "code",
   "execution_count": 2,
   "metadata": {
    "collapsed": true
   },
   "outputs": [],
   "source": [
    "participation = pd.read_csv(\"data/users_participating_events.csv\")"
   ]
  },
  {
   "cell_type": "code",
   "execution_count": 5,
   "metadata": {},
   "outputs": [
    {
     "data": {
      "text/html": [
       "<div>\n",
       "<style>\n",
       "    .dataframe thead tr:only-child th {\n",
       "        text-align: right;\n",
       "    }\n",
       "\n",
       "    .dataframe thead th {\n",
       "        text-align: left;\n",
       "    }\n",
       "\n",
       "    .dataframe tbody tr th {\n",
       "        vertical-align: top;\n",
       "    }\n",
       "</style>\n",
       "<table border=\"1\" class=\"dataframe\">\n",
       "  <thead>\n",
       "    <tr style=\"text-align: right;\">\n",
       "      <th></th>\n",
       "      <th>user_facebook_id</th>\n",
       "      <th>rsvp_status</th>\n",
       "      <th>event_facebook_id</th>\n",
       "    </tr>\n",
       "  </thead>\n",
       "  <tbody>\n",
       "    <tr>\n",
       "      <th>0</th>\n",
       "      <td>201098027006232</td>\n",
       "      <td>attending</td>\n",
       "      <td>1606969096264134</td>\n",
       "    </tr>\n",
       "    <tr>\n",
       "      <th>1</th>\n",
       "      <td>334566996897353</td>\n",
       "      <td>attending</td>\n",
       "      <td>1606969096264134</td>\n",
       "    </tr>\n",
       "    <tr>\n",
       "      <th>2</th>\n",
       "      <td>354393944896674</td>\n",
       "      <td>attending</td>\n",
       "      <td>1606969096264134</td>\n",
       "    </tr>\n",
       "    <tr>\n",
       "      <th>3</th>\n",
       "      <td>1698350500494930</td>\n",
       "      <td>attending</td>\n",
       "      <td>1606969096264134</td>\n",
       "    </tr>\n",
       "    <tr>\n",
       "      <th>4</th>\n",
       "      <td>1775177359410467</td>\n",
       "      <td>attending</td>\n",
       "      <td>1606969096264134</td>\n",
       "    </tr>\n",
       "  </tbody>\n",
       "</table>\n",
       "</div>"
      ],
      "text/plain": [
       "   user_facebook_id rsvp_status  event_facebook_id\n",
       "0   201098027006232   attending   1606969096264134\n",
       "1   334566996897353   attending   1606969096264134\n",
       "2   354393944896674   attending   1606969096264134\n",
       "3  1698350500494930   attending   1606969096264134\n",
       "4  1775177359410467   attending   1606969096264134"
      ]
     },
     "execution_count": 5,
     "metadata": {},
     "output_type": "execute_result"
    }
   ],
   "source": [
    "participation.head()"
   ]
  },
  {
   "cell_type": "code",
   "execution_count": 3,
   "metadata": {},
   "outputs": [
    {
     "name": "stdout",
     "output_type": "stream",
     "text": [
      "<class 'pandas.core.frame.DataFrame'>\n",
      "RangeIndex: 3667328 entries, 0 to 3667327\n",
      "Data columns (total 3 columns):\n",
      "user_facebook_id     int64\n",
      "rsvp_status          object\n",
      "event_facebook_id    int64\n",
      "dtypes: int64(2), object(1)\n",
      "memory usage: 83.9+ MB\n"
     ]
    }
   ],
   "source": [
    "participation.info()"
   ]
  },
  {
   "cell_type": "code",
   "execution_count": 6,
   "metadata": {
    "collapsed": true
   },
   "outputs": [],
   "source": [
    "attending =participation.loc[lambda df: df.rsvp_status == 'attending', ['user_facebook_id', 'event_facebook_id']]"
   ]
  },
  {
   "cell_type": "code",
   "execution_count": 7,
   "metadata": {},
   "outputs": [
    {
     "data": {
      "text/html": [
       "<div>\n",
       "<style>\n",
       "    .dataframe thead tr:only-child th {\n",
       "        text-align: right;\n",
       "    }\n",
       "\n",
       "    .dataframe thead th {\n",
       "        text-align: left;\n",
       "    }\n",
       "\n",
       "    .dataframe tbody tr th {\n",
       "        vertical-align: top;\n",
       "    }\n",
       "</style>\n",
       "<table border=\"1\" class=\"dataframe\">\n",
       "  <thead>\n",
       "    <tr style=\"text-align: right;\">\n",
       "      <th></th>\n",
       "      <th>user_facebook_id</th>\n",
       "      <th>event_facebook_id</th>\n",
       "    </tr>\n",
       "  </thead>\n",
       "  <tbody>\n",
       "    <tr>\n",
       "      <th>0</th>\n",
       "      <td>201098027006232</td>\n",
       "      <td>1606969096264134</td>\n",
       "    </tr>\n",
       "    <tr>\n",
       "      <th>1</th>\n",
       "      <td>334566996897353</td>\n",
       "      <td>1606969096264134</td>\n",
       "    </tr>\n",
       "    <tr>\n",
       "      <th>2</th>\n",
       "      <td>354393944896674</td>\n",
       "      <td>1606969096264134</td>\n",
       "    </tr>\n",
       "    <tr>\n",
       "      <th>3</th>\n",
       "      <td>1698350500494930</td>\n",
       "      <td>1606969096264134</td>\n",
       "    </tr>\n",
       "    <tr>\n",
       "      <th>4</th>\n",
       "      <td>1775177359410467</td>\n",
       "      <td>1606969096264134</td>\n",
       "    </tr>\n",
       "  </tbody>\n",
       "</table>\n",
       "</div>"
      ],
      "text/plain": [
       "   user_facebook_id  event_facebook_id\n",
       "0   201098027006232   1606969096264134\n",
       "1   334566996897353   1606969096264134\n",
       "2   354393944896674   1606969096264134\n",
       "3  1698350500494930   1606969096264134\n",
       "4  1775177359410467   1606969096264134"
      ]
     },
     "execution_count": 7,
     "metadata": {},
     "output_type": "execute_result"
    }
   ],
   "source": [
    "attending.head()"
   ]
  },
  {
   "cell_type": "code",
   "execution_count": null,
   "metadata": {
    "collapsed": true
   },
   "outputs": [],
   "source": [
    "attending.groupby('event_facebook_id').size()"
   ]
  },
  {
   "cell_type": "code",
   "execution_count": 15,
   "metadata": {
    "collapsed": true
   },
   "outputs": [],
   "source": [
    "pairs_raw = attending.merge(attending, on='user_facebook_id')"
   ]
  },
  {
   "cell_type": "code",
   "execution_count": 16,
   "metadata": {},
   "outputs": [
    {
     "name": "stdout",
     "output_type": "stream",
     "text": [
      "<class 'pandas.core.frame.DataFrame'>\n",
      "Int64Index: 19728557 entries, 0 to 19728556\n",
      "Data columns (total 3 columns):\n",
      "user_facebook_id       int64\n",
      "event_facebook_id_x    int64\n",
      "event_facebook_id_y    int64\n",
      "dtypes: int64(3)\n",
      "memory usage: 602.1 MB\n"
     ]
    }
   ],
   "source": [
    "pairs_raw.info()"
   ]
  },
  {
   "cell_type": "code",
   "execution_count": 25,
   "metadata": {
    "collapsed": true
   },
   "outputs": [],
   "source": [
    "pairs = pairs_raw.groupby(['event_facebook_id_x', 'event_facebook_id_y']).size()# \\\n",
    "#  .reset_index().rename(columns={0: 'count'})"
   ]
  },
  {
   "cell_type": "code",
   "execution_count": 37,
   "metadata": {},
   "outputs": [
    {
     "data": {
      "text/plain": [
       "(5546890,)"
      ]
     },
     "execution_count": 37,
     "metadata": {},
     "output_type": "execute_result"
    }
   ],
   "source": [
    "pairs.shape"
   ]
  },
  {
   "cell_type": "code",
   "execution_count": 39,
   "metadata": {},
   "outputs": [
    {
     "data": {
      "text/plain": [
       "(2594099,)"
      ]
     },
     "execution_count": 39,
     "metadata": {},
     "output_type": "execute_result"
    }
   ],
   "source": [
    "pairs.loc[lambda ser: ser > 1].shape"
   ]
  },
  {
   "cell_type": "code",
   "execution_count": 27,
   "metadata": {},
   "outputs": [
    {
     "data": {
      "text/plain": [
       "event_facebook_id_y\n",
       "100668907024083      201\n",
       "100671793684638        5\n",
       "100860333400630        2\n",
       "101225040052676        2\n",
       "101593436871236        3\n",
       "101703520161849        1\n",
       "101814433512143        1\n",
       "102247963441256       19\n",
       "102630626836363        2\n",
       "102652476748675       10\n",
       "104605033224828        2\n",
       "106378716226104        3\n",
       "107749699638345        7\n",
       "108144682857071        3\n",
       "108953062776313        2\n",
       "110475745978177        1\n",
       "110939082450793        1\n",
       "111191022375338        2\n",
       "111739462317052        1\n",
       "111750369011610        6\n",
       "113001615707339        1\n",
       "113267952414691        2\n",
       "113621508794502        1\n",
       "115511725301568        3\n",
       "116014188539229        2\n",
       "116471765209738        1\n",
       "116502542068147        2\n",
       "117000445382634        3\n",
       "117347168470716        4\n",
       "117558868427195        1\n",
       "                    ... \n",
       "1808623656024527       1\n",
       "1810276502532100       1\n",
       "1813911045506541       7\n",
       "1814269335472327       1\n",
       "1818782285001635       2\n",
       "1819398601630749       2\n",
       "1820147331533165       5\n",
       "1820175368218581       3\n",
       "1821868984698622       6\n",
       "1827582110807232       9\n",
       "1829351187284671       3\n",
       "1832760043643818       1\n",
       "1841111829453679       3\n",
       "1845047862379039       4\n",
       "1845421365682116       4\n",
       "1846588825567445       9\n",
       "1847208712172406       2\n",
       "1851744905111684       3\n",
       "1855193564699542       9\n",
       "1858273894402829       2\n",
       "1865302863695618      26\n",
       "1870391383205695       4\n",
       "1873921092829902       1\n",
       "1875763102651405       3\n",
       "1894668684100211      12\n",
       "1909457969280517       4\n",
       "1931026950455237       5\n",
       "1966694430222583      25\n",
       "1978397842384618       1\n",
       "10153092609292107      4\n",
       "Length: 2511, dtype: int64"
      ]
     },
     "execution_count": 27,
     "metadata": {},
     "output_type": "execute_result"
    }
   ],
   "source": [
    "pairs.loc[100668907024083]"
   ]
  },
  {
   "cell_type": "code",
   "execution_count": 35,
   "metadata": {},
   "outputs": [],
   "source": [
    "!mkdir data/processed"
   ]
  },
  {
   "cell_type": "code",
   "execution_count": 36,
   "metadata": {
    "collapsed": true
   },
   "outputs": [],
   "source": [
    "pairs.to_csv(\"data/processed/pair_count.csv\")"
   ]
  },
  {
   "cell_type": "code",
   "execution_count": 55,
   "metadata": {
    "collapsed": true
   },
   "outputs": [],
   "source": [
    "events = pd.read_csv(\"data/events.csv\", index_col='facebook_id')\n",
    "events = events.loc[:, ['attending_count', 'facebook_page', 'name', 'place_name', 'owner_id', 'owner_name']]"
   ]
  },
  {
   "cell_type": "code",
   "execution_count": 56,
   "metadata": {},
   "outputs": [
    {
     "data": {
      "text/plain": [
       "804368059632145"
      ]
     },
     "execution_count": 56,
     "metadata": {},
     "output_type": "execute_result"
    }
   ],
   "source": [
    "events.sample().index[0]"
   ]
  },
  {
   "cell_type": "code",
   "execution_count": 61,
   "metadata": {
    "collapsed": true
   },
   "outputs": [],
   "source": [
    "# 1411752285747539"
   ]
  },
  {
   "cell_type": "code",
   "execution_count": 62,
   "metadata": {
    "collapsed": true
   },
   "outputs": [],
   "source": [
    "def show_related(event_id=None, limit=10):\n",
    "    if event_id is None:\n",
    "        event_id = events.sample().index[0]\n",
    "    print(events.loc[event_id])\n",
    "    related = pairs[event_id].sort_values(ascending=False).head(limit)\n",
    "    return related.to_frame().join(events, how='inner')"
   ]
  },
  {
   "cell_type": "code",
   "execution_count": 72,
   "metadata": {},
   "outputs": [
    {
     "name": "stdout",
     "output_type": "stream",
     "text": [
      "attending_count                                 71\n",
      "facebook_page                      180154812118956\n",
      "name               BEZPOŚREDNIO – wernisaż wystawy\n",
      "place_name                     Galeria Szyb Wilson\n",
      "owner_id                               1.80155e+14\n",
      "owner_name                     Galeria Szyb Wilson\n",
      "Name: 600609960017572, dtype: object\n"
     ]
    },
    {
     "data": {
      "text/html": [
       "<div>\n",
       "<style>\n",
       "    .dataframe thead tr:only-child th {\n",
       "        text-align: right;\n",
       "    }\n",
       "\n",
       "    .dataframe thead th {\n",
       "        text-align: left;\n",
       "    }\n",
       "\n",
       "    .dataframe tbody tr th {\n",
       "        vertical-align: top;\n",
       "    }\n",
       "</style>\n",
       "<table border=\"1\" class=\"dataframe\">\n",
       "  <thead>\n",
       "    <tr style=\"text-align: right;\">\n",
       "      <th></th>\n",
       "      <th>0</th>\n",
       "      <th>attending_count</th>\n",
       "      <th>facebook_page</th>\n",
       "      <th>name</th>\n",
       "      <th>place_name</th>\n",
       "      <th>owner_id</th>\n",
       "      <th>owner_name</th>\n",
       "    </tr>\n",
       "  </thead>\n",
       "  <tbody>\n",
       "    <tr>\n",
       "      <th>600609960017572</th>\n",
       "      <td>68</td>\n",
       "      <td>71</td>\n",
       "      <td>180154812118956</td>\n",
       "      <td>BEZPOŚREDNIO – wernisaż wystawy</td>\n",
       "      <td>Galeria Szyb Wilson</td>\n",
       "      <td>1.801548e+14</td>\n",
       "      <td>Galeria Szyb Wilson</td>\n",
       "    </tr>\n",
       "    <tr>\n",
       "      <th>351496941724472</th>\n",
       "      <td>13</td>\n",
       "      <td>314</td>\n",
       "      <td>128885767128773</td>\n",
       "      <td>Wystawa KOŃ TROJAŃSKI</td>\n",
       "      <td>Galeria Sztuki Współczesnej BWA w Katowicach</td>\n",
       "      <td>NaN</td>\n",
       "      <td>NaN</td>\n",
       "    </tr>\n",
       "    <tr>\n",
       "      <th>613746512102998</th>\n",
       "      <td>12</td>\n",
       "      <td>383</td>\n",
       "      <td>459134480771462</td>\n",
       "      <td>PÓŁNOC/POŁUDNIE - Wystawa</td>\n",
       "      <td>MALARSTWO - ASP KATOWICE PAINTING - ACADEMY OF...</td>\n",
       "      <td>4.591345e+14</td>\n",
       "      <td>MALARSTWO - ASP KATOWICE PAINTING - ACADEMY OF...</td>\n",
       "    </tr>\n",
       "    <tr>\n",
       "      <th>1433054166996596</th>\n",
       "      <td>12</td>\n",
       "      <td>2013</td>\n",
       "      <td>179603073902</td>\n",
       "      <td>Katowice Street Art Festival 2015</td>\n",
       "      <td>NaN</td>\n",
       "      <td>1.004969e+14</td>\n",
       "      <td>Katowice Street Art Festival</td>\n",
       "    </tr>\n",
       "    <tr>\n",
       "      <th>281244615328638</th>\n",
       "      <td>10</td>\n",
       "      <td>53</td>\n",
       "      <td>65815660372</td>\n",
       "      <td>Michalina Wawrzyczek-Klasik „Pomiędzy”</td>\n",
       "      <td>NaN</td>\n",
       "      <td>6.581566e+10</td>\n",
       "      <td>Rondo Sztuki</td>\n",
       "    </tr>\n",
       "    <tr>\n",
       "      <th>1044609425589608</th>\n",
       "      <td>10</td>\n",
       "      <td>2371</td>\n",
       "      <td>334195793031</td>\n",
       "      <td>Festiwal Otwarcia nowej siedziby Muzeum Śląski...</td>\n",
       "      <td>Muzeum Śląskie</td>\n",
       "      <td>3.341958e+11</td>\n",
       "      <td>Muzeum Śląskie</td>\n",
       "    </tr>\n",
       "    <tr>\n",
       "      <th>1035823059763244</th>\n",
       "      <td>10</td>\n",
       "      <td>6220</td>\n",
       "      <td>179603073902</td>\n",
       "      <td>Archive i Morcheeba na 150-lecie Katowic</td>\n",
       "      <td>NaN</td>\n",
       "      <td>1.796031e+11</td>\n",
       "      <td>Katowice Miasto Ogrodów</td>\n",
       "    </tr>\n",
       "    <tr>\n",
       "      <th>619151424824747</th>\n",
       "      <td>9</td>\n",
       "      <td>127</td>\n",
       "      <td>65815660372</td>\n",
       "      <td>Dominika Kowynia \"Take Care\"</td>\n",
       "      <td>NaN</td>\n",
       "      <td>6.581566e+10</td>\n",
       "      <td>Rondo Sztuki</td>\n",
       "    </tr>\n",
       "    <tr>\n",
       "      <th>859350914156160</th>\n",
       "      <td>9</td>\n",
       "      <td>1560</td>\n",
       "      <td>1616002318619223</td>\n",
       "      <td>ARTUR ROJEK Dj Set, KUBA SOJKA live - JOHN LEM...</td>\n",
       "      <td>GALOP</td>\n",
       "      <td>1.616002e+15</td>\n",
       "      <td>GALOP</td>\n",
       "    </tr>\n",
       "    <tr>\n",
       "      <th>937781489615129</th>\n",
       "      <td>9</td>\n",
       "      <td>1739</td>\n",
       "      <td>179603073902</td>\n",
       "      <td>Ars Independent Festival 2015</td>\n",
       "      <td>Katowice, Woiwodschaft Schlesien, Polen</td>\n",
       "      <td>1.830239e+14</td>\n",
       "      <td>Ars Independent</td>\n",
       "    </tr>\n",
       "  </tbody>\n",
       "</table>\n",
       "</div>"
      ],
      "text/plain": [
       "                   0  attending_count     facebook_page  \\\n",
       "600609960017572   68               71   180154812118956   \n",
       "351496941724472   13              314   128885767128773   \n",
       "613746512102998   12              383   459134480771462   \n",
       "1433054166996596  12             2013      179603073902   \n",
       "281244615328638   10               53       65815660372   \n",
       "1044609425589608  10             2371      334195793031   \n",
       "1035823059763244  10             6220      179603073902   \n",
       "619151424824747    9              127       65815660372   \n",
       "859350914156160    9             1560  1616002318619223   \n",
       "937781489615129    9             1739      179603073902   \n",
       "\n",
       "                                                               name  \\\n",
       "600609960017572                     BEZPOŚREDNIO – wernisaż wystawy   \n",
       "351496941724472                               Wystawa KOŃ TROJAŃSKI   \n",
       "613746512102998                           PÓŁNOC/POŁUDNIE - Wystawa   \n",
       "1433054166996596                  Katowice Street Art Festival 2015   \n",
       "281244615328638              Michalina Wawrzyczek-Klasik „Pomiędzy”   \n",
       "1044609425589608  Festiwal Otwarcia nowej siedziby Muzeum Śląski...   \n",
       "1035823059763244           Archive i Morcheeba na 150-lecie Katowic   \n",
       "619151424824747                        Dominika Kowynia \"Take Care\"   \n",
       "859350914156160   ARTUR ROJEK Dj Set, KUBA SOJKA live - JOHN LEM...   \n",
       "937781489615129                       Ars Independent Festival 2015   \n",
       "\n",
       "                                                         place_name  \\\n",
       "600609960017572                                 Galeria Szyb Wilson   \n",
       "351496941724472        Galeria Sztuki Współczesnej BWA w Katowicach   \n",
       "613746512102998   MALARSTWO - ASP KATOWICE PAINTING - ACADEMY OF...   \n",
       "1433054166996596                                                NaN   \n",
       "281244615328638                                                 NaN   \n",
       "1044609425589608                                     Muzeum Śląskie   \n",
       "1035823059763244                                                NaN   \n",
       "619151424824747                                                 NaN   \n",
       "859350914156160                                               GALOP   \n",
       "937781489615129             Katowice, Woiwodschaft Schlesien, Polen   \n",
       "\n",
       "                      owner_id  \\\n",
       "600609960017572   1.801548e+14   \n",
       "351496941724472            NaN   \n",
       "613746512102998   4.591345e+14   \n",
       "1433054166996596  1.004969e+14   \n",
       "281244615328638   6.581566e+10   \n",
       "1044609425589608  3.341958e+11   \n",
       "1035823059763244  1.796031e+11   \n",
       "619151424824747   6.581566e+10   \n",
       "859350914156160   1.616002e+15   \n",
       "937781489615129   1.830239e+14   \n",
       "\n",
       "                                                         owner_name  \n",
       "600609960017572                                 Galeria Szyb Wilson  \n",
       "351496941724472                                                 NaN  \n",
       "613746512102998   MALARSTWO - ASP KATOWICE PAINTING - ACADEMY OF...  \n",
       "1433054166996596                       Katowice Street Art Festival  \n",
       "281244615328638                                        Rondo Sztuki  \n",
       "1044609425589608                                     Muzeum Śląskie  \n",
       "1035823059763244                            Katowice Miasto Ogrodów  \n",
       "619151424824747                                        Rondo Sztuki  \n",
       "859350914156160                                               GALOP  \n",
       "937781489615129                                     Ars Independent  "
      ]
     },
     "execution_count": 72,
     "metadata": {},
     "output_type": "execute_result"
    }
   ],
   "source": [
    "show_related()"
   ]
  },
  {
   "cell_type": "code",
   "execution_count": 64,
   "metadata": {
    "collapsed": true
   },
   "outputs": [],
   "source": [
    "pairs2 = pairs.reset_index().rename(columns={0: 'count'})"
   ]
  },
  {
   "cell_type": "code",
   "execution_count": 65,
   "metadata": {
    "collapsed": true
   },
   "outputs": [
    {
     "data": {
      "text/html": [
       "<div>\n",
       "<style>\n",
       "    .dataframe thead tr:only-child th {\n",
       "        text-align: right;\n",
       "    }\n",
       "\n",
       "    .dataframe thead th {\n",
       "        text-align: left;\n",
       "    }\n",
       "\n",
       "    .dataframe tbody tr th {\n",
       "        vertical-align: top;\n",
       "    }\n",
       "</style>\n",
       "<table border=\"1\" class=\"dataframe\">\n",
       "  <thead>\n",
       "    <tr style=\"text-align: right;\">\n",
       "      <th></th>\n",
       "      <th>event_facebook_id_x</th>\n",
       "      <th>event_facebook_id_y</th>\n",
       "      <th>count</th>\n",
       "    </tr>\n",
       "  </thead>\n",
       "  <tbody>\n",
       "    <tr>\n",
       "      <th>0</th>\n",
       "      <td>100668907024083</td>\n",
       "      <td>100668907024083</td>\n",
       "      <td>201</td>\n",
       "    </tr>\n",
       "    <tr>\n",
       "      <th>1</th>\n",
       "      <td>100668907024083</td>\n",
       "      <td>100671793684638</td>\n",
       "      <td>5</td>\n",
       "    </tr>\n",
       "    <tr>\n",
       "      <th>2</th>\n",
       "      <td>100668907024083</td>\n",
       "      <td>100860333400630</td>\n",
       "      <td>2</td>\n",
       "    </tr>\n",
       "    <tr>\n",
       "      <th>3</th>\n",
       "      <td>100668907024083</td>\n",
       "      <td>101225040052676</td>\n",
       "      <td>2</td>\n",
       "    </tr>\n",
       "    <tr>\n",
       "      <th>4</th>\n",
       "      <td>100668907024083</td>\n",
       "      <td>101593436871236</td>\n",
       "      <td>3</td>\n",
       "    </tr>\n",
       "  </tbody>\n",
       "</table>\n",
       "</div>"
      ],
      "text/plain": [
       "   event_facebook_id_x  event_facebook_id_y  count\n",
       "0      100668907024083      100668907024083    201\n",
       "1      100668907024083      100671793684638      5\n",
       "2      100668907024083      100860333400630      2\n",
       "3      100668907024083      101225040052676      2\n",
       "4      100668907024083      101593436871236      3"
      ]
     },
     "execution_count": 65,
     "metadata": {},
     "output_type": "execute_result"
    }
   ],
   "source": [
    "pairs2.head()"
   ]
  },
  {
   "cell_type": "code",
   "execution_count": null,
   "metadata": {
    "collapsed": true
   },
   "outputs": [],
   "source": [
    "pairs2.merge( left_on='event_facebook_id_x')"
   ]
  },
  {
   "cell_type": "markdown",
   "metadata": {},
   "source": [
    "## To do\n",
    "\n",
    "* per miejsce\n",
    "* per organizacja\n",
    "\n",
    "x\n",
    "\n",
    "* conditional probability (done, sort of)\n",
    "* PMI"
   ]
  }
 ],
 "metadata": {
  "kernelspec": {
   "display_name": "Python [default]",
   "language": "python",
   "name": "python3"
  },
  "language_info": {
   "codemirror_mode": {
    "name": "ipython",
    "version": 3
   },
   "file_extension": ".py",
   "mimetype": "text/x-python",
   "name": "python",
   "nbconvert_exporter": "python",
   "pygments_lexer": "ipython3",
   "version": "3.5.3"
  }
 },
 "nbformat": 4,
 "nbformat_minor": 2
}
