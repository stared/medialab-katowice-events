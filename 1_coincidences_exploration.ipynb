{
 "cells": [
  {
   "cell_type": "markdown",
   "metadata": {},
   "source": [
    "Data downloaded from http://aws.medialabkatowice.eu/db/:\n",
    "\n",
    "* `events`\n",
    "* `users_participating_events`"
   ]
  },
  {
   "cell_type": "code",
   "execution_count": 59,
   "metadata": {
    "collapsed": true
   },
   "outputs": [],
   "source": [
    "%matplotlib inline\n",
    "import pandas as pd\n",
    "import numpy as np"
   ]
  },
  {
   "cell_type": "markdown",
   "metadata": {},
   "source": [
    "## events"
   ]
  },
  {
   "cell_type": "code",
   "execution_count": 35,
   "metadata": {
    "collapsed": true
   },
   "outputs": [],
   "source": [
    "events = pd.read_csv(\"data/events.csv\", index_col='facebook_id')"
   ]
  },
  {
   "cell_type": "code",
   "execution_count": 36,
   "metadata": {},
   "outputs": [
    {
     "data": {
      "text/plain": [
       "Index(['facebook_page', 'picture', 'description', 'comments',\n",
       "       'attending_count', 'end_time', 'start_time', 'place', 'maybe_count',\n",
       "       'noreply_count', 'declined_count', 'name', 'feed', 'created_at',\n",
       "       'owner_name', 'owner_id', 'place_name', 'place_lat', 'place_lng',\n",
       "       'has_place', 'has_multiple_places', 'is_excursion', 'is_katowice',\n",
       "       'is_reviewed'],\n",
       "      dtype='object')"
      ]
     },
     "execution_count": 36,
     "metadata": {},
     "output_type": "execute_result"
    }
   ],
   "source": [
    "events.columns"
   ]
  },
  {
   "cell_type": "code",
   "execution_count": 38,
   "metadata": {},
   "outputs": [
    {
     "data": {
      "text/html": [
       "<div>\n",
       "<style>\n",
       "    .dataframe thead tr:only-child th {\n",
       "        text-align: right;\n",
       "    }\n",
       "\n",
       "    .dataframe thead th {\n",
       "        text-align: left;\n",
       "    }\n",
       "\n",
       "    .dataframe tbody tr th {\n",
       "        vertical-align: top;\n",
       "    }\n",
       "</style>\n",
       "<table border=\"1\" class=\"dataframe\">\n",
       "  <thead>\n",
       "    <tr style=\"text-align: right;\">\n",
       "      <th></th>\n",
       "      <th>facebook_page</th>\n",
       "      <th>name</th>\n",
       "      <th>place_name</th>\n",
       "      <th>owner_id</th>\n",
       "      <th>owner_name</th>\n",
       "    </tr>\n",
       "    <tr>\n",
       "      <th>facebook_id</th>\n",
       "      <th></th>\n",
       "      <th></th>\n",
       "      <th></th>\n",
       "      <th></th>\n",
       "      <th></th>\n",
       "    </tr>\n",
       "  </thead>\n",
       "  <tbody>\n",
       "    <tr>\n",
       "      <th>1000321563316078</th>\n",
       "      <td>128885767128773</td>\n",
       "      <td>Wystawa fotografii: Jean-Manuel Simoes „Chiens...</td>\n",
       "      <td>Galeria Sztuki Współczesnej BWA w Katowicach</td>\n",
       "      <td>1.288858e+14</td>\n",
       "      <td>Galeria Sztuki Współczesnej BWA w Katowicach</td>\n",
       "    </tr>\n",
       "    <tr>\n",
       "      <th>1000474419998733</th>\n",
       "      <td>151621484856829</td>\n",
       "      <td>Jarosław Kassner - wernisaż</td>\n",
       "      <td>NaN</td>\n",
       "      <td>1.516215e+14</td>\n",
       "      <td>MDK \"Południe\" w Katowicach</td>\n",
       "    </tr>\n",
       "    <tr>\n",
       "      <th>1000519489971322</th>\n",
       "      <td>247487101951365</td>\n",
       "      <td>Filmowy Klub Seniora - Idol</td>\n",
       "      <td>Kinoteatr Rialto</td>\n",
       "      <td>2.474871e+14</td>\n",
       "      <td>Kinoteatr Rialto</td>\n",
       "    </tr>\n",
       "    <tr>\n",
       "      <th>1000566356639241</th>\n",
       "      <td>329754960510682</td>\n",
       "      <td>Salon Artystyczny</td>\n",
       "      <td>Miejski Dom Kultury Koszutka</td>\n",
       "      <td>3.297550e+14</td>\n",
       "      <td>Miejski Dom Kultury Koszutka</td>\n",
       "    </tr>\n",
       "    <tr>\n",
       "      <th>1001073743249429</th>\n",
       "      <td>109713522693196</td>\n",
       "      <td>Premierowa sprzedaż książki \"Grey. Pięćdziesią...</td>\n",
       "      <td>Bookszpan Katowice</td>\n",
       "      <td>1.097135e+14</td>\n",
       "      <td>Bookszpan Katowice</td>\n",
       "    </tr>\n",
       "  </tbody>\n",
       "</table>\n",
       "</div>"
      ],
      "text/plain": [
       "                    facebook_page  \\\n",
       "facebook_id                         \n",
       "1000321563316078  128885767128773   \n",
       "1000474419998733  151621484856829   \n",
       "1000519489971322  247487101951365   \n",
       "1000566356639241  329754960510682   \n",
       "1001073743249429  109713522693196   \n",
       "\n",
       "                                                               name  \\\n",
       "facebook_id                                                           \n",
       "1000321563316078  Wystawa fotografii: Jean-Manuel Simoes „Chiens...   \n",
       "1000474419998733                        Jarosław Kassner - wernisaż   \n",
       "1000519489971322                        Filmowy Klub Seniora - Idol   \n",
       "1000566356639241                                  Salon Artystyczny   \n",
       "1001073743249429  Premierowa sprzedaż książki \"Grey. Pięćdziesią...   \n",
       "\n",
       "                                                    place_name      owner_id  \\\n",
       "facebook_id                                                                    \n",
       "1000321563316078  Galeria Sztuki Współczesnej BWA w Katowicach  1.288858e+14   \n",
       "1000474419998733                                           NaN  1.516215e+14   \n",
       "1000519489971322                              Kinoteatr Rialto  2.474871e+14   \n",
       "1000566356639241                  Miejski Dom Kultury Koszutka  3.297550e+14   \n",
       "1001073743249429                            Bookszpan Katowice  1.097135e+14   \n",
       "\n",
       "                                                    owner_name  \n",
       "facebook_id                                                     \n",
       "1000321563316078  Galeria Sztuki Współczesnej BWA w Katowicach  \n",
       "1000474419998733                   MDK \"Południe\" w Katowicach  \n",
       "1000519489971322                              Kinoteatr Rialto  \n",
       "1000566356639241                  Miejski Dom Kultury Koszutka  \n",
       "1001073743249429                            Bookszpan Katowice  "
      ]
     },
     "execution_count": 38,
     "metadata": {},
     "output_type": "execute_result"
    }
   ],
   "source": [
    "events[['facebook_page', 'name', 'place_name', 'owner_id', 'owner_name']].head()"
   ]
  },
  {
   "cell_type": "code",
   "execution_count": 39,
   "metadata": {},
   "outputs": [
    {
     "data": {
      "text/plain": [
       "<matplotlib.axes._subplots.AxesSubplot at 0x11a4e40b8>"
      ]
     },
     "execution_count": 39,
     "metadata": {},
     "output_type": "execute_result"
    },
    {
     "data": {
      "image/png": "[encoded data removed]",
      "text/plain": [
       "<matplotlib.figure.Figure at 0x11271d860>"
      ]
     },
     "metadata": {},
     "output_type": "display_data"
    }
   ],
   "source": [
    "events.groupby('owner_id').size().apply(np.log2).hist(bins=25)"
   ]
  },
  {
   "cell_type": "code",
   "execution_count": 40,
   "metadata": {},
   "outputs": [
    {
     "data": {
      "text/plain": [
       "0.86741424802110823"
      ]
     },
     "execution_count": 40,
     "metadata": {},
     "output_type": "execute_result"
    }
   ],
   "source": [
    "(events['attending_count'] > 0).mean()"
   ]
  },
  {
   "cell_type": "markdown",
   "metadata": {},
   "source": [
    "## participation"
   ]
  },
  {
   "cell_type": "code",
   "execution_count": 7,
   "metadata": {
    "collapsed": true
   },
   "outputs": [],
   "source": [
    "participation = pd.read_csv(\"data/users_participating_events.csv\")"
   ]
  },
  {
   "cell_type": "code",
   "execution_count": 8,
   "metadata": {},
   "outputs": [
    {
     "data": {
      "text/html": [
       "<div>\n",
       "<style>\n",
       "    .dataframe thead tr:only-child th {\n",
       "        text-align: right;\n",
       "    }\n",
       "\n",
       "    .dataframe thead th {\n",
       "        text-align: left;\n",
       "    }\n",
       "\n",
       "    .dataframe tbody tr th {\n",
       "        vertical-align: top;\n",
       "    }\n",
       "</style>\n",
       "<table border=\"1\" class=\"dataframe\">\n",
       "  <thead>\n",
       "    <tr style=\"text-align: right;\">\n",
       "      <th></th>\n",
       "      <th>user_facebook_id</th>\n",
       "      <th>rsvp_status</th>\n",
       "      <th>event_facebook_id</th>\n",
       "    </tr>\n",
       "  </thead>\n",
       "  <tbody>\n",
       "    <tr>\n",
       "      <th>0</th>\n",
       "      <td>201098027006232</td>\n",
       "      <td>attending</td>\n",
       "      <td>1606969096264134</td>\n",
       "    </tr>\n",
       "    <tr>\n",
       "      <th>1</th>\n",
       "      <td>334566996897353</td>\n",
       "      <td>attending</td>\n",
       "      <td>1606969096264134</td>\n",
       "    </tr>\n",
       "    <tr>\n",
       "      <th>2</th>\n",
       "      <td>354393944896674</td>\n",
       "      <td>attending</td>\n",
       "      <td>1606969096264134</td>\n",
       "    </tr>\n",
       "    <tr>\n",
       "      <th>3</th>\n",
       "      <td>1698350500494930</td>\n",
       "      <td>attending</td>\n",
       "      <td>1606969096264134</td>\n",
       "    </tr>\n",
       "    <tr>\n",
       "      <th>4</th>\n",
       "      <td>1775177359410467</td>\n",
       "      <td>attending</td>\n",
       "      <td>1606969096264134</td>\n",
       "    </tr>\n",
       "  </tbody>\n",
       "</table>\n",
       "</div>"
      ],
      "text/plain": [
       "   user_facebook_id rsvp_status  event_facebook_id\n",
       "0   201098027006232   attending   1606969096264134\n",
       "1   334566996897353   attending   1606969096264134\n",
       "2   354393944896674   attending   1606969096264134\n",
       "3  1698350500494930   attending   1606969096264134\n",
       "4  1775177359410467   attending   1606969096264134"
      ]
     },
     "execution_count": 8,
     "metadata": {},
     "output_type": "execute_result"
    }
   ],
   "source": [
    "participation.head()"
   ]
  },
  {
   "cell_type": "code",
   "execution_count": 71,
   "metadata": {},
   "outputs": [
    {
     "data": {
      "text/plain": [
       "(3667328, 3)"
      ]
     },
     "execution_count": 71,
     "metadata": {},
     "output_type": "execute_result"
    }
   ],
   "source": [
    "participation.shape"
   ]
  },
  {
   "cell_type": "code",
   "execution_count": 9,
   "metadata": {},
   "outputs": [
    {
     "data": {
      "text/plain": [
       "noreply      2197263\n",
       "attending     713301\n",
       "maybe         630614\n",
       "declined      126150\n",
       "Name: rsvp_status, dtype: int64"
      ]
     },
     "execution_count": 9,
     "metadata": {},
     "output_type": "execute_result"
    }
   ],
   "source": [
    "participation.rsvp_status.value_counts()"
   ]
  },
  {
   "cell_type": "code",
   "execution_count": null,
   "metadata": {
    "collapsed": true
   },
   "outputs": [],
   "source": [
    "participation.rsvp_status.value_counts()"
   ]
  },
  {
   "cell_type": "markdown",
   "metadata": {},
   "source": [
    "## consistency"
   ]
  },
  {
   "cell_type": "code",
   "execution_count": 33,
   "metadata": {},
   "outputs": [
    {
     "data": {
      "text/html": [
       "<div>\n",
       "<style>\n",
       "    .dataframe thead tr:only-child th {\n",
       "        text-align: right;\n",
       "    }\n",
       "\n",
       "    .dataframe thead th {\n",
       "        text-align: left;\n",
       "    }\n",
       "\n",
       "    .dataframe tbody tr th {\n",
       "        vertical-align: top;\n",
       "    }\n",
       "</style>\n",
       "<table border=\"1\" class=\"dataframe\">\n",
       "  <thead>\n",
       "    <tr style=\"text-align: right;\">\n",
       "      <th>rsvp_status</th>\n",
       "      <th>attending</th>\n",
       "      <th>declined</th>\n",
       "      <th>maybe</th>\n",
       "      <th>noreply</th>\n",
       "    </tr>\n",
       "    <tr>\n",
       "      <th>event_facebook_id</th>\n",
       "      <th></th>\n",
       "      <th></th>\n",
       "      <th></th>\n",
       "      <th></th>\n",
       "    </tr>\n",
       "  </thead>\n",
       "  <tbody>\n",
       "    <tr>\n",
       "      <th>100668907024083</th>\n",
       "      <td>201</td>\n",
       "      <td>1</td>\n",
       "      <td>595</td>\n",
       "      <td>197</td>\n",
       "    </tr>\n",
       "    <tr>\n",
       "      <th>100671793684638</th>\n",
       "      <td>23</td>\n",
       "      <td>1</td>\n",
       "      <td>85</td>\n",
       "      <td>77</td>\n",
       "    </tr>\n",
       "    <tr>\n",
       "      <th>100741577016748</th>\n",
       "      <td>0</td>\n",
       "      <td>0</td>\n",
       "      <td>1</td>\n",
       "      <td>0</td>\n",
       "    </tr>\n",
       "    <tr>\n",
       "      <th>100755470299906</th>\n",
       "      <td>1</td>\n",
       "      <td>0</td>\n",
       "      <td>1</td>\n",
       "      <td>0</td>\n",
       "    </tr>\n",
       "    <tr>\n",
       "      <th>100860333400630</th>\n",
       "      <td>21</td>\n",
       "      <td>3</td>\n",
       "      <td>8</td>\n",
       "      <td>9</td>\n",
       "    </tr>\n",
       "  </tbody>\n",
       "</table>\n",
       "</div>"
      ],
      "text/plain": [
       "rsvp_status        attending  declined  maybe  noreply\n",
       "event_facebook_id                                     \n",
       "100668907024083          201         1    595      197\n",
       "100671793684638           23         1     85       77\n",
       "100741577016748            0         0      1        0\n",
       "100755470299906            1         0      1        0\n",
       "100860333400630           21         3      8        9"
      ]
     },
     "execution_count": 33,
     "metadata": {},
     "output_type": "execute_result"
    }
   ],
   "source": [
    "participants = participation.pivot_table(index='event_facebook_id', columns='rsvp_status',\n",
    "                                         values='user_facebook_id',  # to make flat col index\n",
    "                                         aggfunc='count', fill_value=0)\n",
    "participants.head()"
   ]
  },
  {
   "cell_type": "code",
   "execution_count": 46,
   "metadata": {},
   "outputs": [
    {
     "data": {
      "text/html": [
       "<div>\n",
       "<style>\n",
       "    .dataframe thead tr:only-child th {\n",
       "        text-align: right;\n",
       "    }\n",
       "\n",
       "    .dataframe thead th {\n",
       "        text-align: left;\n",
       "    }\n",
       "\n",
       "    .dataframe tbody tr th {\n",
       "        vertical-align: top;\n",
       "    }\n",
       "</style>\n",
       "<table border=\"1\" class=\"dataframe\">\n",
       "  <thead>\n",
       "    <tr style=\"text-align: right;\">\n",
       "      <th></th>\n",
       "      <th>attending_count</th>\n",
       "      <th>declined_count</th>\n",
       "      <th>maybe_count</th>\n",
       "      <th>noreply_count</th>\n",
       "    </tr>\n",
       "    <tr>\n",
       "      <th>facebook_id</th>\n",
       "      <th></th>\n",
       "      <th></th>\n",
       "      <th></th>\n",
       "      <th></th>\n",
       "    </tr>\n",
       "  </thead>\n",
       "  <tbody>\n",
       "    <tr>\n",
       "      <th>1000321563316078</th>\n",
       "      <td>299</td>\n",
       "      <td>37</td>\n",
       "      <td>25</td>\n",
       "      <td>271</td>\n",
       "    </tr>\n",
       "    <tr>\n",
       "      <th>1000474419998733</th>\n",
       "      <td>19</td>\n",
       "      <td>4</td>\n",
       "      <td>8</td>\n",
       "      <td>180</td>\n",
       "    </tr>\n",
       "    <tr>\n",
       "      <th>1000519489971322</th>\n",
       "      <td>8</td>\n",
       "      <td>1</td>\n",
       "      <td>1</td>\n",
       "      <td>0</td>\n",
       "    </tr>\n",
       "    <tr>\n",
       "      <th>1000566356639241</th>\n",
       "      <td>5</td>\n",
       "      <td>0</td>\n",
       "      <td>0</td>\n",
       "      <td>0</td>\n",
       "    </tr>\n",
       "    <tr>\n",
       "      <th>1001073743249429</th>\n",
       "      <td>292</td>\n",
       "      <td>73</td>\n",
       "      <td>6</td>\n",
       "      <td>5</td>\n",
       "    </tr>\n",
       "  </tbody>\n",
       "</table>\n",
       "</div>"
      ],
      "text/plain": [
       "                  attending_count  declined_count  maybe_count  noreply_count\n",
       "facebook_id                                                                  \n",
       "1000321563316078              299              37           25            271\n",
       "1000474419998733               19               4            8            180\n",
       "1000519489971322                8               1            1              0\n",
       "1000566356639241                5               0            0              0\n",
       "1001073743249429              292              73            6              5"
      ]
     },
     "execution_count": 46,
     "metadata": {},
     "output_type": "execute_result"
    }
   ],
   "source": [
    "event_counts = events[['attending_count', 'declined_count', 'maybe_count','noreply_count']]\n",
    "event_counts = event_counts.loc[lambda df: df.sum(1) > 0]\n",
    "event_counts.head()"
   ]
  },
  {
   "cell_type": "code",
   "execution_count": 44,
   "metadata": {},
   "outputs": [
    {
     "data": {
      "text/plain": [
       "6715"
      ]
     },
     "execution_count": 44,
     "metadata": {},
     "output_type": "execute_result"
    }
   ],
   "source": [
    "len(participants)"
   ]
  },
  {
   "cell_type": "code",
   "execution_count": 47,
   "metadata": {},
   "outputs": [
    {
     "data": {
      "text/plain": [
       "7580"
      ]
     },
     "execution_count": 47,
     "metadata": {},
     "output_type": "execute_result"
    }
   ],
   "source": [
    "len(events)"
   ]
  },
  {
   "cell_type": "code",
   "execution_count": 48,
   "metadata": {},
   "outputs": [
    {
     "data": {
      "text/plain": [
       "6862"
      ]
     },
     "execution_count": 48,
     "metadata": {},
     "output_type": "execute_result"
    }
   ],
   "source": [
    "len(event_counts)"
   ]
  },
  {
   "cell_type": "code",
   "execution_count": 53,
   "metadata": {},
   "outputs": [
    {
     "data": {
      "text/plain": [
       "6"
      ]
     },
     "execution_count": 53,
     "metadata": {},
     "output_type": "execute_result"
    }
   ],
   "source": [
    "len(set(participants.index) - set(event_counts.index))"
   ]
  },
  {
   "cell_type": "code",
   "execution_count": 54,
   "metadata": {},
   "outputs": [
    {
     "data": {
      "text/plain": [
       "153"
      ]
     },
     "execution_count": 54,
     "metadata": {},
     "output_type": "execute_result"
    }
   ],
   "source": [
    "len(set(event_counts.index) - set(participants.index))"
   ]
  },
  {
   "cell_type": "code",
   "execution_count": 56,
   "metadata": {},
   "outputs": [
    {
     "data": {
      "text/plain": [
       "attending_count     45.496732\n",
       "declined_count      12.045752\n",
       "maybe_count         54.176471\n",
       "noreply_count      183.934641\n",
       "dtype: float64"
      ]
     },
     "execution_count": 56,
     "metadata": {},
     "output_type": "execute_result"
    }
   ],
   "source": [
    "event_counts.loc[set(event_counts.index) - set(participants.index)].mean()"
   ]
  },
  {
   "cell_type": "code",
   "execution_count": 58,
   "metadata": {},
   "outputs": [
    {
     "data": {
      "text/html": [
       "<div>\n",
       "<style>\n",
       "    .dataframe thead tr:only-child th {\n",
       "        text-align: right;\n",
       "    }\n",
       "\n",
       "    .dataframe thead th {\n",
       "        text-align: left;\n",
       "    }\n",
       "\n",
       "    .dataframe tbody tr th {\n",
       "        vertical-align: top;\n",
       "    }\n",
       "</style>\n",
       "<table border=\"1\" class=\"dataframe\">\n",
       "  <thead>\n",
       "    <tr style=\"text-align: right;\">\n",
       "      <th></th>\n",
       "      <th>attending_count</th>\n",
       "      <th>declined_count</th>\n",
       "      <th>maybe_count</th>\n",
       "      <th>noreply_count</th>\n",
       "      <th>attending</th>\n",
       "      <th>declined</th>\n",
       "      <th>maybe</th>\n",
       "      <th>noreply</th>\n",
       "    </tr>\n",
       "  </thead>\n",
       "  <tbody>\n",
       "    <tr>\n",
       "      <th>1000321563316078</th>\n",
       "      <td>299</td>\n",
       "      <td>37</td>\n",
       "      <td>25</td>\n",
       "      <td>271</td>\n",
       "      <td>287</td>\n",
       "      <td>36</td>\n",
       "      <td>24</td>\n",
       "      <td>260</td>\n",
       "    </tr>\n",
       "    <tr>\n",
       "      <th>1000474419998733</th>\n",
       "      <td>19</td>\n",
       "      <td>4</td>\n",
       "      <td>8</td>\n",
       "      <td>180</td>\n",
       "      <td>18</td>\n",
       "      <td>4</td>\n",
       "      <td>8</td>\n",
       "      <td>176</td>\n",
       "    </tr>\n",
       "    <tr>\n",
       "      <th>1000519489971322</th>\n",
       "      <td>8</td>\n",
       "      <td>1</td>\n",
       "      <td>1</td>\n",
       "      <td>0</td>\n",
       "      <td>8</td>\n",
       "      <td>0</td>\n",
       "      <td>1</td>\n",
       "      <td>0</td>\n",
       "    </tr>\n",
       "    <tr>\n",
       "      <th>1000566356639241</th>\n",
       "      <td>5</td>\n",
       "      <td>0</td>\n",
       "      <td>0</td>\n",
       "      <td>0</td>\n",
       "      <td>4</td>\n",
       "      <td>0</td>\n",
       "      <td>0</td>\n",
       "      <td>0</td>\n",
       "    </tr>\n",
       "    <tr>\n",
       "      <th>1001073743249429</th>\n",
       "      <td>292</td>\n",
       "      <td>73</td>\n",
       "      <td>6</td>\n",
       "      <td>5</td>\n",
       "      <td>281</td>\n",
       "      <td>71</td>\n",
       "      <td>6</td>\n",
       "      <td>5</td>\n",
       "    </tr>\n",
       "  </tbody>\n",
       "</table>\n",
       "</div>"
      ],
      "text/plain": [
       "                  attending_count  declined_count  maybe_count  noreply_count  \\\n",
       "1000321563316078              299              37           25            271   \n",
       "1000474419998733               19               4            8            180   \n",
       "1000519489971322                8               1            1              0   \n",
       "1000566356639241                5               0            0              0   \n",
       "1001073743249429              292              73            6              5   \n",
       "\n",
       "                  attending  declined  maybe  noreply  \n",
       "1000321563316078        287        36     24      260  \n",
       "1000474419998733         18         4      8      176  \n",
       "1000519489971322          8         0      1        0  \n",
       "1000566356639241          4         0      0        0  \n",
       "1001073743249429        281        71      6        5  "
      ]
     },
     "execution_count": 58,
     "metadata": {},
     "output_type": "execute_result"
    }
   ],
   "source": [
    "combined = event_counts.join(participants, how='inner')\n",
    "combined.head()"
   ]
  },
  {
   "cell_type": "code",
   "execution_count": 62,
   "metadata": {},
   "outputs": [
    {
     "data": {
      "text/html": [
       "<div>\n",
       "<style>\n",
       "    .dataframe thead tr:only-child th {\n",
       "        text-align: right;\n",
       "    }\n",
       "\n",
       "    .dataframe thead th {\n",
       "        text-align: left;\n",
       "    }\n",
       "\n",
       "    .dataframe tbody tr th {\n",
       "        vertical-align: top;\n",
       "    }\n",
       "</style>\n",
       "<table border=\"1\" class=\"dataframe\">\n",
       "  <thead>\n",
       "    <tr style=\"text-align: right;\">\n",
       "      <th></th>\n",
       "      <th>attending</th>\n",
       "      <th>attending_count</th>\n",
       "      <th>declined</th>\n",
       "      <th>declined_count</th>\n",
       "      <th>maybe</th>\n",
       "      <th>maybe_count</th>\n",
       "      <th>noreply</th>\n",
       "      <th>noreply_count</th>\n",
       "    </tr>\n",
       "  </thead>\n",
       "  <tbody>\n",
       "    <tr>\n",
       "      <th>attending</th>\n",
       "      <td>1.000000</td>\n",
       "      <td>0.990536</td>\n",
       "      <td>0.599925</td>\n",
       "      <td>0.594222</td>\n",
       "      <td>0.650342</td>\n",
       "      <td>0.663455</td>\n",
       "      <td>0.533421</td>\n",
       "      <td>0.596726</td>\n",
       "    </tr>\n",
       "    <tr>\n",
       "      <th>attending_count</th>\n",
       "      <td>0.990536</td>\n",
       "      <td>1.000000</td>\n",
       "      <td>0.618158</td>\n",
       "      <td>0.613407</td>\n",
       "      <td>0.613946</td>\n",
       "      <td>0.638531</td>\n",
       "      <td>0.522845</td>\n",
       "      <td>0.599223</td>\n",
       "    </tr>\n",
       "    <tr>\n",
       "      <th>declined</th>\n",
       "      <td>0.599925</td>\n",
       "      <td>0.618158</td>\n",
       "      <td>1.000000</td>\n",
       "      <td>0.999838</td>\n",
       "      <td>0.090592</td>\n",
       "      <td>0.092667</td>\n",
       "      <td>0.550877</td>\n",
       "      <td>0.692485</td>\n",
       "    </tr>\n",
       "    <tr>\n",
       "      <th>declined_count</th>\n",
       "      <td>0.594222</td>\n",
       "      <td>0.613407</td>\n",
       "      <td>0.999838</td>\n",
       "      <td>1.000000</td>\n",
       "      <td>0.086070</td>\n",
       "      <td>0.088316</td>\n",
       "      <td>0.551413</td>\n",
       "      <td>0.692993</td>\n",
       "    </tr>\n",
       "    <tr>\n",
       "      <th>maybe</th>\n",
       "      <td>0.650342</td>\n",
       "      <td>0.613946</td>\n",
       "      <td>0.090592</td>\n",
       "      <td>0.086070</td>\n",
       "      <td>1.000000</td>\n",
       "      <td>0.951147</td>\n",
       "      <td>0.461106</td>\n",
       "      <td>0.405595</td>\n",
       "    </tr>\n",
       "    <tr>\n",
       "      <th>maybe_count</th>\n",
       "      <td>0.663455</td>\n",
       "      <td>0.638531</td>\n",
       "      <td>0.092667</td>\n",
       "      <td>0.088316</td>\n",
       "      <td>0.951147</td>\n",
       "      <td>1.000000</td>\n",
       "      <td>0.478171</td>\n",
       "      <td>0.423540</td>\n",
       "    </tr>\n",
       "    <tr>\n",
       "      <th>noreply</th>\n",
       "      <td>0.533421</td>\n",
       "      <td>0.522845</td>\n",
       "      <td>0.550877</td>\n",
       "      <td>0.551413</td>\n",
       "      <td>0.461106</td>\n",
       "      <td>0.478171</td>\n",
       "      <td>1.000000</td>\n",
       "      <td>0.956771</td>\n",
       "    </tr>\n",
       "    <tr>\n",
       "      <th>noreply_count</th>\n",
       "      <td>0.596726</td>\n",
       "      <td>0.599223</td>\n",
       "      <td>0.692485</td>\n",
       "      <td>0.692993</td>\n",
       "      <td>0.405595</td>\n",
       "      <td>0.423540</td>\n",
       "      <td>0.956771</td>\n",
       "      <td>1.000000</td>\n",
       "    </tr>\n",
       "  </tbody>\n",
       "</table>\n",
       "</div>"
      ],
      "text/plain": [
       "                 attending  attending_count  declined  declined_count  \\\n",
       "attending         1.000000         0.990536  0.599925        0.594222   \n",
       "attending_count   0.990536         1.000000  0.618158        0.613407   \n",
       "declined          0.599925         0.618158  1.000000        0.999838   \n",
       "declined_count    0.594222         0.613407  0.999838        1.000000   \n",
       "maybe             0.650342         0.613946  0.090592        0.086070   \n",
       "maybe_count       0.663455         0.638531  0.092667        0.088316   \n",
       "noreply           0.533421         0.522845  0.550877        0.551413   \n",
       "noreply_count     0.596726         0.599223  0.692485        0.692993   \n",
       "\n",
       "                    maybe  maybe_count   noreply  noreply_count  \n",
       "attending        0.650342     0.663455  0.533421       0.596726  \n",
       "attending_count  0.613946     0.638531  0.522845       0.599223  \n",
       "declined         0.090592     0.092667  0.550877       0.692485  \n",
       "declined_count   0.086070     0.088316  0.551413       0.692993  \n",
       "maybe            1.000000     0.951147  0.461106       0.405595  \n",
       "maybe_count      0.951147     1.000000  0.478171       0.423540  \n",
       "noreply          0.461106     0.478171  1.000000       0.956771  \n",
       "noreply_count    0.405595     0.423540  0.956771       1.000000  "
      ]
     },
     "execution_count": 62,
     "metadata": {},
     "output_type": "execute_result"
    }
   ],
   "source": [
    "combined[sorted(combined.columns)].corr()"
   ]
  },
  {
   "cell_type": "code",
   "execution_count": 69,
   "metadata": {},
   "outputs": [],
   "source": [
    "combined_norm = combined.div(combined['attending'], axis=0)"
   ]
  },
  {
   "cell_type": "code",
   "execution_count": 70,
   "metadata": {},
   "outputs": [
    {
     "data": {
      "text/html": [
       "<div>\n",
       "<style>\n",
       "    .dataframe thead tr:only-child th {\n",
       "        text-align: right;\n",
       "    }\n",
       "\n",
       "    .dataframe thead th {\n",
       "        text-align: left;\n",
       "    }\n",
       "\n",
       "    .dataframe tbody tr th {\n",
       "        vertical-align: top;\n",
       "    }\n",
       "</style>\n",
       "<table border=\"1\" class=\"dataframe\">\n",
       "  <thead>\n",
       "    <tr style=\"text-align: right;\">\n",
       "      <th></th>\n",
       "      <th>attending</th>\n",
       "      <th>attending_count</th>\n",
       "      <th>declined</th>\n",
       "      <th>declined_count</th>\n",
       "      <th>maybe</th>\n",
       "      <th>maybe_count</th>\n",
       "      <th>noreply</th>\n",
       "      <th>noreply_count</th>\n",
       "    </tr>\n",
       "  </thead>\n",
       "  <tbody>\n",
       "    <tr>\n",
       "      <th>attending</th>\n",
       "      <td>NaN</td>\n",
       "      <td>NaN</td>\n",
       "      <td>NaN</td>\n",
       "      <td>NaN</td>\n",
       "      <td>NaN</td>\n",
       "      <td>NaN</td>\n",
       "      <td>NaN</td>\n",
       "      <td>NaN</td>\n",
       "    </tr>\n",
       "    <tr>\n",
       "      <th>attending_count</th>\n",
       "      <td>NaN</td>\n",
       "      <td>1.000000</td>\n",
       "      <td>0.181165</td>\n",
       "      <td>0.184832</td>\n",
       "      <td>-0.086150</td>\n",
       "      <td>-0.038752</td>\n",
       "      <td>0.121301</td>\n",
       "      <td>0.143479</td>\n",
       "    </tr>\n",
       "    <tr>\n",
       "      <th>declined</th>\n",
       "      <td>NaN</td>\n",
       "      <td>0.181165</td>\n",
       "      <td>1.000000</td>\n",
       "      <td>0.997783</td>\n",
       "      <td>0.008291</td>\n",
       "      <td>0.021710</td>\n",
       "      <td>0.530620</td>\n",
       "      <td>0.564969</td>\n",
       "    </tr>\n",
       "    <tr>\n",
       "      <th>declined_count</th>\n",
       "      <td>NaN</td>\n",
       "      <td>0.184832</td>\n",
       "      <td>0.997783</td>\n",
       "      <td>1.000000</td>\n",
       "      <td>0.008131</td>\n",
       "      <td>0.022013</td>\n",
       "      <td>0.534366</td>\n",
       "      <td>0.571889</td>\n",
       "    </tr>\n",
       "    <tr>\n",
       "      <th>maybe</th>\n",
       "      <td>NaN</td>\n",
       "      <td>-0.086150</td>\n",
       "      <td>0.008291</td>\n",
       "      <td>0.008131</td>\n",
       "      <td>1.000000</td>\n",
       "      <td>0.989131</td>\n",
       "      <td>0.248763</td>\n",
       "      <td>0.230461</td>\n",
       "    </tr>\n",
       "    <tr>\n",
       "      <th>maybe_count</th>\n",
       "      <td>NaN</td>\n",
       "      <td>-0.038752</td>\n",
       "      <td>0.021710</td>\n",
       "      <td>0.022013</td>\n",
       "      <td>0.989131</td>\n",
       "      <td>1.000000</td>\n",
       "      <td>0.250584</td>\n",
       "      <td>0.237310</td>\n",
       "    </tr>\n",
       "    <tr>\n",
       "      <th>noreply</th>\n",
       "      <td>NaN</td>\n",
       "      <td>0.121301</td>\n",
       "      <td>0.530620</td>\n",
       "      <td>0.534366</td>\n",
       "      <td>0.248763</td>\n",
       "      <td>0.250584</td>\n",
       "      <td>1.000000</td>\n",
       "      <td>0.990945</td>\n",
       "    </tr>\n",
       "    <tr>\n",
       "      <th>noreply_count</th>\n",
       "      <td>NaN</td>\n",
       "      <td>0.143479</td>\n",
       "      <td>0.564969</td>\n",
       "      <td>0.571889</td>\n",
       "      <td>0.230461</td>\n",
       "      <td>0.237310</td>\n",
       "      <td>0.990945</td>\n",
       "      <td>1.000000</td>\n",
       "    </tr>\n",
       "  </tbody>\n",
       "</table>\n",
       "</div>"
      ],
      "text/plain": [
       "                 attending  attending_count  declined  declined_count  \\\n",
       "attending              NaN              NaN       NaN             NaN   \n",
       "attending_count        NaN         1.000000  0.181165        0.184832   \n",
       "declined               NaN         0.181165  1.000000        0.997783   \n",
       "declined_count         NaN         0.184832  0.997783        1.000000   \n",
       "maybe                  NaN        -0.086150  0.008291        0.008131   \n",
       "maybe_count            NaN        -0.038752  0.021710        0.022013   \n",
       "noreply                NaN         0.121301  0.530620        0.534366   \n",
       "noreply_count          NaN         0.143479  0.564969        0.571889   \n",
       "\n",
       "                    maybe  maybe_count   noreply  noreply_count  \n",
       "attending             NaN          NaN       NaN            NaN  \n",
       "attending_count -0.086150    -0.038752  0.121301       0.143479  \n",
       "declined         0.008291     0.021710  0.530620       0.564969  \n",
       "declined_count   0.008131     0.022013  0.534366       0.571889  \n",
       "maybe            1.000000     0.989131  0.248763       0.230461  \n",
       "maybe_count      0.989131     1.000000  0.250584       0.237310  \n",
       "noreply          0.248763     0.250584  1.000000       0.990945  \n",
       "noreply_count    0.230461     0.237310  0.990945       1.000000  "
      ]
     },
     "execution_count": 70,
     "metadata": {},
     "output_type": "execute_result"
    }
   ],
   "source": [
    "combined_norm[sorted(combined_norm.columns)].corr()"
   ]
  },
  {
   "cell_type": "code",
   "execution_count": null,
   "metadata": {
    "collapsed": true
   },
   "outputs": [],
   "source": [
    "# differences, but correlations are high enough I shouldn't bother"
   ]
  }
 ],
 "metadata": {
  "kernelspec": {
   "display_name": "Python [default]",
   "language": "python",
   "name": "python3"
  },
  "language_info": {
   "codemirror_mode": {
    "name": "ipython",
    "version": 3
   },
   "file_extension": ".py",
   "mimetype": "text/x-python",
   "name": "python",
   "nbconvert_exporter": "python",
   "pygments_lexer": "ipython3",
   "version": "3.5.3"
  }
 },
 "nbformat": 4,
 "nbformat_minor": 2
}
